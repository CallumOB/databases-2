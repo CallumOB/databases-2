{
 "cells": [
  {
   "cell_type": "markdown",
   "id": "44a7af2f",
   "metadata": {},
   "source": [
    "# Lab Test on manipulating data with Pandas"
   ]
  },
  {
   "cell_type": "markdown",
   "id": "a536ca81",
   "metadata": {},
   "source": [
    "## Rules:\n",
    "\n",
    "•\tMake sure you are comfortable before the lab test starts – students leaving the lab during the test will not be allowed back in.\n",
    "\n",
    "•\tYou must sit your assigned lab test – you will not be able to access any other lab test.\n",
    "\n",
    "•\tYou must use the lab machines. You are not allowed to use any other devices, including your own laptop or phone. You should have no other device on the desktop during the test.\n",
    "\n",
    "•\tYou may use paper. \n",
    "\n",
    "•\tYou may access Brightspace notes during the lab test, from the lab machine.\n",
    "\n",
    "•\tYou must not communicate, verbally or electronically, with anyone other than the lab supervisor during the test.\n",
    "\n",
    "•\tTurn up at the start of the lab, log in to one of the desktops and start up Jupyter Notebook\n",
    "\n",
    "•\tWhen you have completed your test, check that you have answered all parts and submit.  Log off and leave the lab. \n",
    "\n",
    "•\tDo not speak to anyone, either in the lab or in the corridor outside until the lab test is over.\n"
   ]
  },
  {
   "cell_type": "code",
   "execution_count": 1,
   "id": "f196859e",
   "metadata": {},
   "outputs": [],
   "source": [
    "import pandas as pd\n",
    "import os\n",
    "from os.path import join\n",
    "from os import getcwd"
   ]
  },
  {
   "cell_type": "code",
   "execution_count": 2,
   "id": "5a84aa3c",
   "metadata": {},
   "outputs": [],
   "source": [
    "datadir = join('Z:','Disney')"
   ]
  },
  {
   "cell_type": "markdown",
   "id": "6a3e9d57",
   "metadata": {},
   "source": [
    "## 1.  Read data into dataframes from the directory datadir"
   ]
  },
  {
   "cell_type": "markdown",
   "id": "d95a5aa3",
   "metadata": {},
   "source": [
    "### 1a Read disney-characters.csv into the dataframe chardf."
   ]
  },
  {
   "cell_type": "code",
   "execution_count": 3,
   "id": "530d2fb5",
   "metadata": {},
   "outputs": [],
   "source": [
    "chardf = pd.read_csv(\"disney-characters.csv\", sep=',', delimiter=None, encoding='UTF-8')"
   ]
  },
  {
   "cell_type": "markdown",
   "id": "5436a3e5",
   "metadata": {},
   "source": [
    "### 1b Read disney-director.csv into the dataframe dirdf"
   ]
  },
  {
   "cell_type": "code",
   "execution_count": 4,
   "id": "57d80afa",
   "metadata": {},
   "outputs": [],
   "source": [
    "dirdf = pd.read_csv(\"disney-director.csv\", sep=',', delimiter=None, encoding='UTF-8')"
   ]
  },
  {
   "cell_type": "markdown",
   "id": "582e10fd",
   "metadata": {},
   "source": [
    "### 1c Read disney_movies_total_gross.csv into the dataframe mgrdf"
   ]
  },
  {
   "cell_type": "code",
   "execution_count": 5,
   "id": "4fb1adbc",
   "metadata": {},
   "outputs": [],
   "source": [
    "mgrdf = pd.read_csv(\"disney_movies_total_gross.csv\", sep=',', delimiter=None, encoding='UTF-8')"
   ]
  },
  {
   "cell_type": "markdown",
   "id": "35a07c3c",
   "metadata": {},
   "source": [
    "## 2.\tCheck and tidy the data"
   ]
  },
  {
   "cell_type": "markdown",
   "id": "4758a2bb",
   "metadata": {},
   "source": [
    "### 2a. Find the number of unique values for each of the columns in each of the dataframes."
   ]
  },
  {
   "cell_type": "code",
   "execution_count": 6,
   "id": "fd42ae85",
   "metadata": {},
   "outputs": [
    {
     "data": {
      "text/plain": [
       "index                       579\n",
       "movie_title                 573\n",
       "release_date                553\n",
       "genre                        12\n",
       "MPAA_rating                   5\n",
       "total_gross                 576\n",
       "inflation_adjusted_gross    576\n",
       "dtype: int64"
      ]
     },
     "execution_count": 6,
     "metadata": {},
     "output_type": "execute_result"
    }
   ],
   "source": [
    "chardf.nunique()\n",
    "dirdf.nunique()\n",
    "mgrdf.nunique()"
   ]
  },
  {
   "cell_type": "markdown",
   "id": "8d00bb44",
   "metadata": {},
   "source": [
    "### 2b. Remove redundant '\\n' from movie_title in chardf"
   ]
  },
  {
   "cell_type": "code",
   "execution_count": 7,
   "id": "1df0415c",
   "metadata": {},
   "outputs": [
    {
     "name": "stdout",
     "output_type": "stream",
     "text": [
      "index            int64\n",
      "movie_title     object\n",
      "release_date    object\n",
      "hero            object\n",
      "villian         object\n",
      "song            object\n",
      "dtype: object\n"
     ]
    }
   ],
   "source": [
    "chardf.movie_title = list(map(lambda x: x.replace(\"\\n\", \"\"), chardf.movie_title))\n",
    "print(chardf.dtypes)"
   ]
  },
  {
   "cell_type": "markdown",
   "id": "d7d52a6a",
   "metadata": {},
   "source": [
    "### 2c.\tIn both chardf and mgrdf, create a new column 'year'. Save the 4-digit year from release_date as a new integer column  'year'.  Drop the release_date column."
   ]
  },
  {
   "cell_type": "code",
   "execution_count": 8,
   "id": "3e03089d",
   "metadata": {},
   "outputs": [],
   "source": [
    "chardf['year'] = pd.to_datetime(chardf['release_date']).dt.year\n",
    "chardf = chardf.drop('release_date', axis=1)\n",
    "\n",
    "mgrdf['year'] = pd.to_datetime(mgrdf['release_date']).dt.year\n",
    "mgrdf = mgrdf.drop('release_date', axis=1)"
   ]
  },
  {
   "cell_type": "markdown",
   "id": "23cf7cec",
   "metadata": {},
   "source": [
    "### 2d. Turn mgrdf.total_gross into an integer  (first remove commas and $)"
   ]
  },
  {
   "cell_type": "code",
   "execution_count": 9,
   "id": "57c9427b",
   "metadata": {},
   "outputs": [],
   "source": [
    "mgrdf.total_gross = list(map(lambda x: x.replace(\",\", \"\"), mgrdf.total_gross))\n",
    "mgrdf.total_gross = list(map(lambda x: x.replace(\"$\", \"\"), mgrdf.total_gross))\n",
    "mgrdf.total_gross = mgrdf.total_gross.astype(int)"
   ]
  },
  {
   "cell_type": "markdown",
   "id": "6a62b185",
   "metadata": {},
   "source": [
    "### 2e. Ensure that movie_title and name in all tables is of type string."
   ]
  },
  {
   "cell_type": "code",
   "execution_count": 10,
   "id": "aea5fd2e",
   "metadata": {},
   "outputs": [
    {
     "name": "stdout",
     "output_type": "stream",
     "text": [
      "index                        int64\n",
      "movie_title                 object\n",
      "genre                       object\n",
      "MPAA_rating                 object\n",
      "total_gross                  int64\n",
      "inflation_adjusted_gross    object\n",
      "year                         int32\n",
      "dtype: object \n",
      "\n",
      "index           int64\n",
      "movie_title    object\n",
      "hero           object\n",
      "villian        object\n",
      "song           object\n",
      "year            int32\n",
      "dtype: object \n",
      "\n",
      "index        int64\n",
      "name        object\n",
      "director    object\n",
      "dtype: object\n"
     ]
    }
   ],
   "source": [
    "for i in [mgrdf, chardf]:\n",
    "    if i.movie_title.dtype != str:\n",
    "        i.movie_title = i.movie_title.astype(str)\n",
    "\n",
    "    print(i.dtypes, '\\n')\n",
    "\n",
    "if dirdf.name.dtype != str:\n",
    "    dirdf.name = dirdf.name.astype(str)\n",
    "\n",
    "print(dirdf.dtypes)"
   ]
  },
  {
   "cell_type": "markdown",
   "id": "4eb52811",
   "metadata": {},
   "source": [
    "## 3. Merge  the data\n",
    "\n",
    "### 3a  Merge chardf and dirdf on the index, keeping only indexes that match, saving the result in idxdf."
   ]
  },
  {
   "cell_type": "code",
   "execution_count": 11,
   "metadata": {},
   "outputs": [
    {
     "data": {
      "text/html": [
       "<div>\n",
       "<style scoped>\n",
       "    .dataframe tbody tr th:only-of-type {\n",
       "        vertical-align: middle;\n",
       "    }\n",
       "\n",
       "    .dataframe tbody tr th {\n",
       "        vertical-align: top;\n",
       "    }\n",
       "\n",
       "    .dataframe thead th {\n",
       "        text-align: right;\n",
       "    }\n",
       "</style>\n",
       "<table border=\"1\" class=\"dataframe\">\n",
       "  <thead>\n",
       "    <tr style=\"text-align: right;\">\n",
       "      <th></th>\n",
       "      <th>index</th>\n",
       "      <th>movie_title</th>\n",
       "      <th>hero</th>\n",
       "      <th>villian</th>\n",
       "      <th>song</th>\n",
       "      <th>year</th>\n",
       "      <th>name</th>\n",
       "      <th>director</th>\n",
       "    </tr>\n",
       "  </thead>\n",
       "  <tbody>\n",
       "    <tr>\n",
       "      <th>0</th>\n",
       "      <td>0</td>\n",
       "      <td>Snow White and the Seven Dwarfs</td>\n",
       "      <td>Snow White</td>\n",
       "      <td>Evil Queen</td>\n",
       "      <td>Some Day My Prince Will Come</td>\n",
       "      <td>1937</td>\n",
       "      <td>Snow White and the Seven Dwarfs</td>\n",
       "      <td>David Hand</td>\n",
       "    </tr>\n",
       "    <tr>\n",
       "      <th>1</th>\n",
       "      <td>1</td>\n",
       "      <td>Pinocchio</td>\n",
       "      <td>Pinocchio</td>\n",
       "      <td>Stromboli</td>\n",
       "      <td>When You Wish upon a Star</td>\n",
       "      <td>1940</td>\n",
       "      <td>Pinocchio</td>\n",
       "      <td>Ben Sharpsteen</td>\n",
       "    </tr>\n",
       "    <tr>\n",
       "      <th>2</th>\n",
       "      <td>2</td>\n",
       "      <td>Fantasia</td>\n",
       "      <td>NaN</td>\n",
       "      <td>Chernabog</td>\n",
       "      <td>NaN</td>\n",
       "      <td>1940</td>\n",
       "      <td>Fantasia</td>\n",
       "      <td>full credits</td>\n",
       "    </tr>\n",
       "    <tr>\n",
       "      <th>3</th>\n",
       "      <td>3</td>\n",
       "      <td>Dumbo</td>\n",
       "      <td>Dumbo</td>\n",
       "      <td>Ringmaster</td>\n",
       "      <td>Baby Mine</td>\n",
       "      <td>1941</td>\n",
       "      <td>Dumbo</td>\n",
       "      <td>Ben Sharpsteen</td>\n",
       "    </tr>\n",
       "    <tr>\n",
       "      <th>4</th>\n",
       "      <td>4</td>\n",
       "      <td>Bambi</td>\n",
       "      <td>Bambi</td>\n",
       "      <td>Hunter</td>\n",
       "      <td>Love Is a Song</td>\n",
       "      <td>1942</td>\n",
       "      <td>Bambi</td>\n",
       "      <td>David Hand</td>\n",
       "    </tr>\n",
       "  </tbody>\n",
       "</table>\n",
       "</div>"
      ],
      "text/plain": [
       "   index                      movie_title        hero     villian  \\\n",
       "0      0  Snow White and the Seven Dwarfs  Snow White  Evil Queen   \n",
       "1      1                        Pinocchio   Pinocchio   Stromboli   \n",
       "2      2                         Fantasia         NaN   Chernabog   \n",
       "3      3                            Dumbo       Dumbo  Ringmaster   \n",
       "4      4                            Bambi       Bambi      Hunter   \n",
       "\n",
       "                           song  year                             name  \\\n",
       "0  Some Day My Prince Will Come  1937  Snow White and the Seven Dwarfs   \n",
       "1     When You Wish upon a Star  1940                        Pinocchio   \n",
       "2                           NaN  1940                         Fantasia   \n",
       "3                     Baby Mine  1941                            Dumbo   \n",
       "4                Love Is a Song  1942                            Bambi   \n",
       "\n",
       "         director  \n",
       "0      David Hand  \n",
       "1  Ben Sharpsteen  \n",
       "2    full credits  \n",
       "3  Ben Sharpsteen  \n",
       "4      David Hand  "
      ]
     },
     "execution_count": 11,
     "metadata": {},
     "output_type": "execute_result"
    }
   ],
   "source": [
    "idxdf = pd.merge(chardf, dirdf, on='index')\n",
    "idxdf.head(5)"
   ]
  },
  {
   "cell_type": "markdown",
   "id": "fb9598b7",
   "metadata": {},
   "source": [
    "### 3b Merge chardf and dirdf, using movie_title from chardf and name from dirdf , keeping only rows that match, saving the result in chddf."
   ]
  },
  {
   "cell_type": "code",
   "execution_count": 12,
   "id": "3c53a973",
   "metadata": {},
   "outputs": [
    {
     "data": {
      "text/html": [
       "<div>\n",
       "<style scoped>\n",
       "    .dataframe tbody tr th:only-of-type {\n",
       "        vertical-align: middle;\n",
       "    }\n",
       "\n",
       "    .dataframe tbody tr th {\n",
       "        vertical-align: top;\n",
       "    }\n",
       "\n",
       "    .dataframe thead th {\n",
       "        text-align: right;\n",
       "    }\n",
       "</style>\n",
       "<table border=\"1\" class=\"dataframe\">\n",
       "  <thead>\n",
       "    <tr style=\"text-align: right;\">\n",
       "      <th></th>\n",
       "      <th>index_x</th>\n",
       "      <th>movie_title</th>\n",
       "      <th>hero</th>\n",
       "      <th>villian</th>\n",
       "      <th>song</th>\n",
       "      <th>year</th>\n",
       "      <th>index_y</th>\n",
       "      <th>name</th>\n",
       "      <th>director</th>\n",
       "    </tr>\n",
       "  </thead>\n",
       "  <tbody>\n",
       "    <tr>\n",
       "      <th>0</th>\n",
       "      <td>0</td>\n",
       "      <td>Snow White and the Seven Dwarfs</td>\n",
       "      <td>Snow White</td>\n",
       "      <td>Evil Queen</td>\n",
       "      <td>Some Day My Prince Will Come</td>\n",
       "      <td>1937</td>\n",
       "      <td>0</td>\n",
       "      <td>Snow White and the Seven Dwarfs</td>\n",
       "      <td>David Hand</td>\n",
       "    </tr>\n",
       "    <tr>\n",
       "      <th>1</th>\n",
       "      <td>1</td>\n",
       "      <td>Pinocchio</td>\n",
       "      <td>Pinocchio</td>\n",
       "      <td>Stromboli</td>\n",
       "      <td>When You Wish upon a Star</td>\n",
       "      <td>1940</td>\n",
       "      <td>1</td>\n",
       "      <td>Pinocchio</td>\n",
       "      <td>Ben Sharpsteen</td>\n",
       "    </tr>\n",
       "    <tr>\n",
       "      <th>2</th>\n",
       "      <td>2</td>\n",
       "      <td>Fantasia</td>\n",
       "      <td>NaN</td>\n",
       "      <td>Chernabog</td>\n",
       "      <td>NaN</td>\n",
       "      <td>1940</td>\n",
       "      <td>2</td>\n",
       "      <td>Fantasia</td>\n",
       "      <td>full credits</td>\n",
       "    </tr>\n",
       "    <tr>\n",
       "      <th>3</th>\n",
       "      <td>3</td>\n",
       "      <td>Dumbo</td>\n",
       "      <td>Dumbo</td>\n",
       "      <td>Ringmaster</td>\n",
       "      <td>Baby Mine</td>\n",
       "      <td>1941</td>\n",
       "      <td>3</td>\n",
       "      <td>Dumbo</td>\n",
       "      <td>Ben Sharpsteen</td>\n",
       "    </tr>\n",
       "    <tr>\n",
       "      <th>4</th>\n",
       "      <td>4</td>\n",
       "      <td>Bambi</td>\n",
       "      <td>Bambi</td>\n",
       "      <td>Hunter</td>\n",
       "      <td>Love Is a Song</td>\n",
       "      <td>1942</td>\n",
       "      <td>4</td>\n",
       "      <td>Bambi</td>\n",
       "      <td>David Hand</td>\n",
       "    </tr>\n",
       "  </tbody>\n",
       "</table>\n",
       "</div>"
      ],
      "text/plain": [
       "   index_x                      movie_title        hero     villian  \\\n",
       "0        0  Snow White and the Seven Dwarfs  Snow White  Evil Queen   \n",
       "1        1                        Pinocchio   Pinocchio   Stromboli   \n",
       "2        2                         Fantasia         NaN   Chernabog   \n",
       "3        3                            Dumbo       Dumbo  Ringmaster   \n",
       "4        4                            Bambi       Bambi      Hunter   \n",
       "\n",
       "                           song  year  index_y  \\\n",
       "0  Some Day My Prince Will Come  1937        0   \n",
       "1     When You Wish upon a Star  1940        1   \n",
       "2                           NaN  1940        2   \n",
       "3                     Baby Mine  1941        3   \n",
       "4                Love Is a Song  1942        4   \n",
       "\n",
       "                              name        director  \n",
       "0  Snow White and the Seven Dwarfs      David Hand  \n",
       "1                        Pinocchio  Ben Sharpsteen  \n",
       "2                         Fantasia    full credits  \n",
       "3                            Dumbo  Ben Sharpsteen  \n",
       "4                            Bambi      David Hand  "
      ]
     },
     "execution_count": 12,
     "metadata": {},
     "output_type": "execute_result"
    }
   ],
   "source": [
    "chddf = pd.merge(chardf, dirdf, left_on='movie_title', right_on=dirdf.name)\n",
    "chddf.head(5)"
   ]
  },
  {
   "cell_type": "markdown",
   "metadata": {},
   "source": []
  },
  {
   "cell_type": "markdown",
   "id": "25502102",
   "metadata": {},
   "source": [
    "### 3c.\tMerge mgrdf with idxdf using the movie_title and year from mgrdf, and the name and year from idxdf keeping financial information for all movies, saving the result in  chgrdf."
   ]
  },
  {
   "cell_type": "code",
   "execution_count": 13,
   "id": "3645a928",
   "metadata": {},
   "outputs": [
    {
     "data": {
      "text/html": [
       "<div>\n",
       "<style scoped>\n",
       "    .dataframe tbody tr th:only-of-type {\n",
       "        vertical-align: middle;\n",
       "    }\n",
       "\n",
       "    .dataframe tbody tr th {\n",
       "        vertical-align: top;\n",
       "    }\n",
       "\n",
       "    .dataframe thead th {\n",
       "        text-align: right;\n",
       "    }\n",
       "</style>\n",
       "<table border=\"1\" class=\"dataframe\">\n",
       "  <thead>\n",
       "    <tr style=\"text-align: right;\">\n",
       "      <th></th>\n",
       "      <th>key_0</th>\n",
       "      <th>key_1</th>\n",
       "      <th>index_x</th>\n",
       "      <th>movie_title_x</th>\n",
       "      <th>genre</th>\n",
       "      <th>MPAA_rating</th>\n",
       "      <th>total_gross</th>\n",
       "      <th>inflation_adjusted_gross</th>\n",
       "      <th>year_x</th>\n",
       "      <th>index_y</th>\n",
       "      <th>movie_title_y</th>\n",
       "      <th>hero</th>\n",
       "      <th>villian</th>\n",
       "      <th>song</th>\n",
       "      <th>year_y</th>\n",
       "      <th>name</th>\n",
       "      <th>director</th>\n",
       "    </tr>\n",
       "  </thead>\n",
       "  <tbody>\n",
       "    <tr>\n",
       "      <th>0</th>\n",
       "      <td>Snow White and the Seven Dwarfs</td>\n",
       "      <td>1937</td>\n",
       "      <td>0</td>\n",
       "      <td>Snow White and the Seven Dwarfs</td>\n",
       "      <td>Musical</td>\n",
       "      <td>G</td>\n",
       "      <td>184925485</td>\n",
       "      <td>$5,228,953,251</td>\n",
       "      <td>1937</td>\n",
       "      <td>0</td>\n",
       "      <td>Snow White and the Seven Dwarfs</td>\n",
       "      <td>Snow White</td>\n",
       "      <td>Evil Queen</td>\n",
       "      <td>Some Day My Prince Will Come</td>\n",
       "      <td>1937</td>\n",
       "      <td>Snow White and the Seven Dwarfs</td>\n",
       "      <td>David Hand</td>\n",
       "    </tr>\n",
       "    <tr>\n",
       "      <th>1</th>\n",
       "      <td>Pinocchio</td>\n",
       "      <td>1940</td>\n",
       "      <td>1</td>\n",
       "      <td>Pinocchio</td>\n",
       "      <td>Adventure</td>\n",
       "      <td>G</td>\n",
       "      <td>84300000</td>\n",
       "      <td>$2,188,229,052</td>\n",
       "      <td>1940</td>\n",
       "      <td>1</td>\n",
       "      <td>Pinocchio</td>\n",
       "      <td>Pinocchio</td>\n",
       "      <td>Stromboli</td>\n",
       "      <td>When You Wish upon a Star</td>\n",
       "      <td>1940</td>\n",
       "      <td>Pinocchio</td>\n",
       "      <td>Ben Sharpsteen</td>\n",
       "    </tr>\n",
       "    <tr>\n",
       "      <th>2</th>\n",
       "      <td>Fantasia</td>\n",
       "      <td>1940</td>\n",
       "      <td>2</td>\n",
       "      <td>Fantasia</td>\n",
       "      <td>Musical</td>\n",
       "      <td>G</td>\n",
       "      <td>83320000</td>\n",
       "      <td>$2,187,090,808</td>\n",
       "      <td>1940</td>\n",
       "      <td>2</td>\n",
       "      <td>Fantasia</td>\n",
       "      <td>NaN</td>\n",
       "      <td>Chernabog</td>\n",
       "      <td>NaN</td>\n",
       "      <td>1940</td>\n",
       "      <td>Fantasia</td>\n",
       "      <td>full credits</td>\n",
       "    </tr>\n",
       "    <tr>\n",
       "      <th>3</th>\n",
       "      <td>Cinderella</td>\n",
       "      <td>1950</td>\n",
       "      <td>4</td>\n",
       "      <td>Cinderella</td>\n",
       "      <td>Drama</td>\n",
       "      <td>G</td>\n",
       "      <td>85000000</td>\n",
       "      <td>$920,608,730</td>\n",
       "      <td>1950</td>\n",
       "      <td>11</td>\n",
       "      <td>Cinderella</td>\n",
       "      <td>Cinderella</td>\n",
       "      <td>Lady Tremaine</td>\n",
       "      <td>Bibbidi-Bobbidi-Boo</td>\n",
       "      <td>1950</td>\n",
       "      <td>Cinderella</td>\n",
       "      <td>Wilfred Jackson</td>\n",
       "    </tr>\n",
       "    <tr>\n",
       "      <th>4</th>\n",
       "      <td>Lady and the Tramp</td>\n",
       "      <td>1955</td>\n",
       "      <td>6</td>\n",
       "      <td>Lady and the Tramp</td>\n",
       "      <td>Drama</td>\n",
       "      <td>G</td>\n",
       "      <td>93600000</td>\n",
       "      <td>$1,236,035,515</td>\n",
       "      <td>1955</td>\n",
       "      <td>14</td>\n",
       "      <td>Lady and the Tramp</td>\n",
       "      <td>Lady and Tramp</td>\n",
       "      <td>Si and Am</td>\n",
       "      <td>Bella Notte</td>\n",
       "      <td>1955</td>\n",
       "      <td>Lady and the Tramp</td>\n",
       "      <td>Hamilton Luske</td>\n",
       "    </tr>\n",
       "  </tbody>\n",
       "</table>\n",
       "</div>"
      ],
      "text/plain": [
       "                             key_0  key_1  index_x  \\\n",
       "0  Snow White and the Seven Dwarfs   1937        0   \n",
       "1                        Pinocchio   1940        1   \n",
       "2                         Fantasia   1940        2   \n",
       "3                       Cinderella   1950        4   \n",
       "4               Lady and the Tramp   1955        6   \n",
       "\n",
       "                     movie_title_x      genre MPAA_rating  total_gross  \\\n",
       "0  Snow White and the Seven Dwarfs    Musical           G    184925485   \n",
       "1                        Pinocchio  Adventure           G     84300000   \n",
       "2                         Fantasia    Musical           G     83320000   \n",
       "3                       Cinderella      Drama           G     85000000   \n",
       "4               Lady and the Tramp      Drama           G     93600000   \n",
       "\n",
       "  inflation_adjusted_gross  year_x  index_y                    movie_title_y  \\\n",
       "0           $5,228,953,251    1937        0  Snow White and the Seven Dwarfs   \n",
       "1           $2,188,229,052    1940        1                        Pinocchio   \n",
       "2           $2,187,090,808    1940        2                         Fantasia   \n",
       "3             $920,608,730    1950       11                       Cinderella   \n",
       "4           $1,236,035,515    1955       14               Lady and the Tramp   \n",
       "\n",
       "             hero        villian                          song  year_y  \\\n",
       "0      Snow White     Evil Queen  Some Day My Prince Will Come    1937   \n",
       "1       Pinocchio      Stromboli     When You Wish upon a Star    1940   \n",
       "2             NaN      Chernabog                           NaN    1940   \n",
       "3      Cinderella  Lady Tremaine           Bibbidi-Bobbidi-Boo    1950   \n",
       "4  Lady and Tramp      Si and Am                   Bella Notte    1955   \n",
       "\n",
       "                              name         director  \n",
       "0  Snow White and the Seven Dwarfs       David Hand  \n",
       "1                        Pinocchio   Ben Sharpsteen  \n",
       "2                         Fantasia     full credits  \n",
       "3                       Cinderella  Wilfred Jackson  \n",
       "4               Lady and the Tramp   Hamilton Luske  "
      ]
     },
     "execution_count": 13,
     "metadata": {},
     "output_type": "execute_result"
    }
   ],
   "source": [
    "chgrdf = pd.merge(mgrdf, idxdf, left_on=(mgrdf.movie_title, mgrdf.year), right_on=(idxdf.name, idxdf.year))\n",
    "chgrdf.head(5)"
   ]
  },
  {
   "cell_type": "markdown",
   "id": "daa786cd",
   "metadata": {},
   "source": [
    "## 4.\tQueries: "
   ]
  },
  {
   "cell_type": "markdown",
   "id": "e1d27401",
   "metadata": {},
   "source": [
    "### 4a.\tUsing chgrdf, show each genre and the number of movies from that genre."
   ]
  },
  {
   "cell_type": "code",
   "execution_count": 26,
   "id": "62d1bfec",
   "metadata": {},
   "outputs": [
    {
     "data": {
      "text/plain": [
       "Index(['key_0', 'key_1', 'index_x', 'movie_title_x', 'genre', 'MPAA_rating',\n",
       "       'total_gross', 'inflation_adjusted_gross', 'year_x', 'index_y',\n",
       "       'movie_title_y', 'hero', 'villian', 'song', 'year_y', 'name',\n",
       "       'director'],\n",
       "      dtype='object')"
      ]
     },
     "execution_count": 26,
     "metadata": {},
     "output_type": "execute_result"
    }
   ],
   "source": [
    "chgrdf['genre'].value_counts()\n",
    "chgrdf.columns"
   ]
  },
  {
   "cell_type": "markdown",
   "id": "76662aab",
   "metadata": {},
   "source": [
    "### 4b.\tUsing chgrdf, for each row where movie_title_x is not equal to movie_title_y, display movie_title_x, movie_title_y, year, genre, director and total_gross."
   ]
  },
  {
   "cell_type": "code",
   "execution_count": 25,
   "id": "0af608ca",
   "metadata": {},
   "outputs": [
    {
     "ename": "KeyError",
     "evalue": "\"['year'] not in index\"",
     "output_type": "error",
     "traceback": [
      "\u001b[0;31m---------------------------------------------------------------------------\u001b[0m",
      "\u001b[0;31mKeyError\u001b[0m                                  Traceback (most recent call last)",
      "\u001b[1;32m/Users/callumobrien/GitHub/databases-2/mongo-test-practice/Investigate Disney-Given.ipynb Cell 34\u001b[0m line \u001b[0;36m1\n\u001b[0;32m----> <a href='vscode-notebook-cell:/Users/callumobrien/GitHub/databases-2/mongo-test-practice/Investigate%20Disney-Given.ipynb#X44sZmlsZQ%3D%3D?line=0'>1</a>\u001b[0m chgrdf[chgrdf[\u001b[39m'\u001b[39;49m\u001b[39mmovie_title_x\u001b[39;49m\u001b[39m'\u001b[39;49m] \u001b[39m!=\u001b[39;49m chgrdf[\u001b[39m'\u001b[39;49m\u001b[39mmovie_title_y\u001b[39;49m\u001b[39m'\u001b[39;49m]][[\u001b[39m'\u001b[39;49m\u001b[39mmovie_title_x\u001b[39;49m\u001b[39m'\u001b[39;49m, \u001b[39m'\u001b[39;49m\u001b[39mmovie_title_y\u001b[39;49m\u001b[39m'\u001b[39;49m, \u001b[39m'\u001b[39;49m\u001b[39myear\u001b[39;49m\u001b[39m'\u001b[39;49m, \u001b[39m'\u001b[39;49m\u001b[39mgenre\u001b[39;49m\u001b[39m'\u001b[39;49m, \u001b[39m'\u001b[39;49m\u001b[39mdirector\u001b[39;49m\u001b[39m'\u001b[39;49m, \u001b[39m'\u001b[39;49m\u001b[39mtotal_gross\u001b[39;49m\u001b[39m'\u001b[39;49m]]\n",
      "File \u001b[0;32m/opt/homebrew/lib/python3.11/site-packages/pandas/core/frame.py:3902\u001b[0m, in \u001b[0;36mDataFrame.__getitem__\u001b[0;34m(self, key)\u001b[0m\n\u001b[1;32m   3900\u001b[0m     \u001b[39mif\u001b[39;00m is_iterator(key):\n\u001b[1;32m   3901\u001b[0m         key \u001b[39m=\u001b[39m \u001b[39mlist\u001b[39m(key)\n\u001b[0;32m-> 3902\u001b[0m     indexer \u001b[39m=\u001b[39m \u001b[39mself\u001b[39;49m\u001b[39m.\u001b[39;49mcolumns\u001b[39m.\u001b[39;49m_get_indexer_strict(key, \u001b[39m\"\u001b[39;49m\u001b[39mcolumns\u001b[39;49m\u001b[39m\"\u001b[39;49m)[\u001b[39m1\u001b[39m]\n\u001b[1;32m   3904\u001b[0m \u001b[39m# take() does not accept boolean indexers\u001b[39;00m\n\u001b[1;32m   3905\u001b[0m \u001b[39mif\u001b[39;00m \u001b[39mgetattr\u001b[39m(indexer, \u001b[39m\"\u001b[39m\u001b[39mdtype\u001b[39m\u001b[39m\"\u001b[39m, \u001b[39mNone\u001b[39;00m) \u001b[39m==\u001b[39m \u001b[39mbool\u001b[39m:\n",
      "File \u001b[0;32m/opt/homebrew/lib/python3.11/site-packages/pandas/core/indexes/base.py:6114\u001b[0m, in \u001b[0;36mIndex._get_indexer_strict\u001b[0;34m(self, key, axis_name)\u001b[0m\n\u001b[1;32m   6111\u001b[0m \u001b[39melse\u001b[39;00m:\n\u001b[1;32m   6112\u001b[0m     keyarr, indexer, new_indexer \u001b[39m=\u001b[39m \u001b[39mself\u001b[39m\u001b[39m.\u001b[39m_reindex_non_unique(keyarr)\n\u001b[0;32m-> 6114\u001b[0m \u001b[39mself\u001b[39;49m\u001b[39m.\u001b[39;49m_raise_if_missing(keyarr, indexer, axis_name)\n\u001b[1;32m   6116\u001b[0m keyarr \u001b[39m=\u001b[39m \u001b[39mself\u001b[39m\u001b[39m.\u001b[39mtake(indexer)\n\u001b[1;32m   6117\u001b[0m \u001b[39mif\u001b[39;00m \u001b[39misinstance\u001b[39m(key, Index):\n\u001b[1;32m   6118\u001b[0m     \u001b[39m# GH 42790 - Preserve name from an Index\u001b[39;00m\n",
      "File \u001b[0;32m/opt/homebrew/lib/python3.11/site-packages/pandas/core/indexes/base.py:6178\u001b[0m, in \u001b[0;36mIndex._raise_if_missing\u001b[0;34m(self, key, indexer, axis_name)\u001b[0m\n\u001b[1;32m   6175\u001b[0m     \u001b[39mraise\u001b[39;00m \u001b[39mKeyError\u001b[39;00m(\u001b[39mf\u001b[39m\u001b[39m\"\u001b[39m\u001b[39mNone of [\u001b[39m\u001b[39m{\u001b[39;00mkey\u001b[39m}\u001b[39;00m\u001b[39m] are in the [\u001b[39m\u001b[39m{\u001b[39;00maxis_name\u001b[39m}\u001b[39;00m\u001b[39m]\u001b[39m\u001b[39m\"\u001b[39m)\n\u001b[1;32m   6177\u001b[0m not_found \u001b[39m=\u001b[39m \u001b[39mlist\u001b[39m(ensure_index(key)[missing_mask\u001b[39m.\u001b[39mnonzero()[\u001b[39m0\u001b[39m]]\u001b[39m.\u001b[39munique())\n\u001b[0;32m-> 6178\u001b[0m \u001b[39mraise\u001b[39;00m \u001b[39mKeyError\u001b[39;00m(\u001b[39mf\u001b[39m\u001b[39m\"\u001b[39m\u001b[39m{\u001b[39;00mnot_found\u001b[39m}\u001b[39;00m\u001b[39m not in index\u001b[39m\u001b[39m\"\u001b[39m)\n",
      "\u001b[0;31mKeyError\u001b[0m: \"['year'] not in index\""
     ]
    }
   ],
   "source": [
    "chgrdf[chgrdf['movie_title_x'] != chgrdf['movie_title_y']][['movie_title_x', 'movie_title_y', 'year', 'genre', 'director', 'total_gross']]"
   ]
  },
  {
   "cell_type": "markdown",
   "id": "0f809110",
   "metadata": {},
   "source": [
    "### 4c.\tUsing chgrdf, for each row where movie_title_x or movie_title_y contain the string 'Dalmatian', display movie_title_x, movie_title_y, year, genre, director and total_gross."
   ]
  },
  {
   "cell_type": "code",
   "execution_count": null,
   "id": "2c0f184c",
   "metadata": {},
   "outputs": [],
   "source": []
  },
  {
   "cell_type": "markdown",
   "id": "393dcccf",
   "metadata": {},
   "source": [
    "## 5.\tWhat did you learn? Use Markdown or comments to enter your answer.\n",
    "### 5a.\tExplain the difference between idxdf and chddf."
   ]
  },
  {
   "cell_type": "code",
   "execution_count": null,
   "id": "fcba109e",
   "metadata": {},
   "outputs": [],
   "source": []
  },
  {
   "cell_type": "markdown",
   "id": "3098930a",
   "metadata": {},
   "source": [
    "### 5b.\tBased on your experience of this data, suggest two ways in which chgrdf could be tidied, to enhance analysis."
   ]
  },
  {
   "cell_type": "code",
   "execution_count": null,
   "id": "2b22a801",
   "metadata": {},
   "outputs": [],
   "source": []
  },
  {
   "cell_type": "markdown",
   "id": "441dec56",
   "metadata": {},
   "source": [
    "# BEFORE YOU SUBMIT:\n",
    "Restart and run all, to make sure you have no errors."
   ]
  },
  {
   "cell_type": "code",
   "execution_count": null,
   "id": "d31b60a5",
   "metadata": {},
   "outputs": [],
   "source": []
  }
 ],
 "metadata": {
  "kernelspec": {
   "display_name": "Python 3 (ipykernel)",
   "language": "python",
   "name": "python3"
  },
  "language_info": {
   "codemirror_mode": {
    "name": "ipython",
    "version": 3
   },
   "file_extension": ".py",
   "mimetype": "text/x-python",
   "name": "python",
   "nbconvert_exporter": "python",
   "pygments_lexer": "ipython3",
   "version": "3.11.6"
  }
 },
 "nbformat": 4,
 "nbformat_minor": 5
}
