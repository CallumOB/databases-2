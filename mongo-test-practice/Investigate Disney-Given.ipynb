{
 "cells": [
  {
   "cell_type": "markdown",
   "id": "44a7af2f",
   "metadata": {},
   "source": [
    "# Lab Test on manipulating data with Pandas"
   ]
  },
  {
   "cell_type": "markdown",
   "id": "a536ca81",
   "metadata": {},
   "source": [
    "## Rules:\n",
    "\n",
    "•\tMake sure you are comfortable before the lab test starts – students leaving the lab during the test will not be allowed back in.\n",
    "\n",
    "•\tYou must sit your assigned lab test – you will not be able to access any other lab test.\n",
    "\n",
    "•\tYou must use the lab machines. You are not allowed to use any other devices, including your own laptop or phone. You should have no other device on the desktop during the test.\n",
    "\n",
    "•\tYou may use paper. \n",
    "\n",
    "•\tYou may access Brightspace notes during the lab test, from the lab machine.\n",
    "\n",
    "•\tYou must not communicate, verbally or electronically, with anyone other than the lab supervisor during the test.\n",
    "\n",
    "•\tTurn up at the start of the lab, log in to one of the desktops and start up Jupyter Notebook\n",
    "\n",
    "•\tWhen you have completed your test, check that you have answered all parts and submit.  Log off and leave the lab. \n",
    "\n",
    "•\tDo not speak to anyone, either in the lab or in the corridor outside until the lab test is over.\n"
   ]
  },
  {
   "cell_type": "code",
   "execution_count": 1,
   "id": "f196859e",
   "metadata": {},
   "outputs": [],
   "source": [
    "import pandas as pd\n",
    "import os\n",
    "from os.path import join\n",
    "from os import getcwd"
   ]
  },
  {
   "cell_type": "code",
   "execution_count": 2,
   "id": "5a84aa3c",
   "metadata": {},
   "outputs": [],
   "source": [
    "datadir = join('Z:','Disney')"
   ]
  },
  {
   "cell_type": "markdown",
   "id": "6a3e9d57",
   "metadata": {},
   "source": [
    "## 1.  Read data into dataframes from the directory datadir"
   ]
  },
  {
   "cell_type": "code",
   "execution_count": null,
   "id": "539d2888",
   "metadata": {},
   "outputs": [],
   "source": []
  },
  {
   "cell_type": "markdown",
   "id": "d95a5aa3",
   "metadata": {},
   "source": [
    "### 1a Read disney-characters.csv into the dataframe chardf."
   ]
  },
  {
   "cell_type": "code",
   "execution_count": null,
   "id": "530d2fb5",
   "metadata": {},
   "outputs": [],
   "source": []
  },
  {
   "cell_type": "markdown",
   "id": "5436a3e5",
   "metadata": {},
   "source": [
    "### 1b Read disney-director.csv into the dataframe dirdf"
   ]
  },
  {
   "cell_type": "code",
   "execution_count": null,
   "id": "57d80afa",
   "metadata": {},
   "outputs": [],
   "source": []
  },
  {
   "cell_type": "markdown",
   "id": "582e10fd",
   "metadata": {},
   "source": [
    "### 1c Read disney_movies_total_gross.csv into the dataframe mgrdf"
   ]
  },
  {
   "cell_type": "code",
   "execution_count": null,
   "id": "4fb1adbc",
   "metadata": {},
   "outputs": [],
   "source": []
  },
  {
   "cell_type": "markdown",
   "id": "35a07c3c",
   "metadata": {},
   "source": [
    "## 2.\tCheck and tidy the data"
   ]
  },
  {
   "cell_type": "markdown",
   "id": "4758a2bb",
   "metadata": {},
   "source": [
    "### 2a. Find the number of unique values for each of the columns in each of the dataframes."
   ]
  },
  {
   "cell_type": "code",
   "execution_count": null,
   "id": "fd42ae85",
   "metadata": {},
   "outputs": [],
   "source": []
  },
  {
   "cell_type": "markdown",
   "id": "8d00bb44",
   "metadata": {},
   "source": [
    "### 2b. Remove redundant '\\n' from movie_title in chardf"
   ]
  },
  {
   "cell_type": "code",
   "execution_count": null,
   "id": "1df0415c",
   "metadata": {},
   "outputs": [],
   "source": []
  },
  {
   "cell_type": "markdown",
   "id": "d7d52a6a",
   "metadata": {},
   "source": [
    "### 2c.\tIn both chardf and mgrdf, create a new column 'year'. Save the 4-digit year from release_date as a new integer column  'year'.  Drop the release_date column."
   ]
  },
  {
   "cell_type": "code",
   "execution_count": null,
   "id": "3e03089d",
   "metadata": {},
   "outputs": [],
   "source": []
  },
  {
   "cell_type": "markdown",
   "id": "23cf7cec",
   "metadata": {},
   "source": [
    "### 2d. Turn mgrdf.total_gross into an integer  (first remove commas and $)"
   ]
  },
  {
   "cell_type": "code",
   "execution_count": null,
   "id": "57c9427b",
   "metadata": {},
   "outputs": [],
   "source": []
  },
  {
   "cell_type": "markdown",
   "id": "6a62b185",
   "metadata": {},
   "source": [
    "### 2e. Ensure that movie_title and name in all tables is of type string."
   ]
  },
  {
   "cell_type": "code",
   "execution_count": null,
   "id": "aea5fd2e",
   "metadata": {},
   "outputs": [],
   "source": []
  },
  {
   "cell_type": "markdown",
   "id": "4eb52811",
   "metadata": {},
   "source": [
    "## 3. Merge  the data\n",
    "\n",
    "### 3a  Merge chardf and dirdf on the index, keeping only indexes that match, saving the result in idxdf."
   ]
  },
  {
   "cell_type": "code",
   "execution_count": null,
   "id": "50383235",
   "metadata": {},
   "outputs": [],
   "source": []
  },
  {
   "cell_type": "markdown",
   "id": "fb9598b7",
   "metadata": {},
   "source": [
    "### 3b Merge chardf and dirdf, using movie_title from chardf and name from dirdf , keeping only rows that match, saving the result in chddf."
   ]
  },
  {
   "cell_type": "code",
   "execution_count": null,
   "id": "3c53a973",
   "metadata": {},
   "outputs": [],
   "source": []
  },
  {
   "cell_type": "markdown",
   "id": "25502102",
   "metadata": {},
   "source": [
    "### 3c.\tMerge mgrdf with idxdf using the movie_title and year from mgrdf, and the name and year from idxdf keeping financial information for all movies, saving the result in  chgrdf."
   ]
  },
  {
   "cell_type": "code",
   "execution_count": null,
   "id": "3645a928",
   "metadata": {},
   "outputs": [],
   "source": []
  },
  {
   "cell_type": "markdown",
   "id": "daa786cd",
   "metadata": {},
   "source": [
    "## 4.\tQueries: "
   ]
  },
  {
   "cell_type": "markdown",
   "id": "e1d27401",
   "metadata": {},
   "source": [
    "### 4a.\tUsing chgrdf, show each genre and the number of movies from that genre."
   ]
  },
  {
   "cell_type": "code",
   "execution_count": null,
   "id": "62d1bfec",
   "metadata": {},
   "outputs": [],
   "source": []
  },
  {
   "cell_type": "markdown",
   "id": "76662aab",
   "metadata": {},
   "source": [
    "### 4b.\tUsing chgrdf, for each row where movie_title_x is not equal to movie_title_y, display movie_title_x, movie_title_y, year, genre, director and total_gross."
   ]
  },
  {
   "cell_type": "code",
   "execution_count": null,
   "id": "0af608ca",
   "metadata": {},
   "outputs": [],
   "source": []
  },
  {
   "cell_type": "markdown",
   "id": "0f809110",
   "metadata": {},
   "source": [
    "### 4c.\tUsing chgrdf, for each row where movie_title_x or movie_title_y contain the string 'Dalmatian', display movie_title_x, movie_title_y, year, genre, director and total_gross."
   ]
  },
  {
   "cell_type": "code",
   "execution_count": null,
   "id": "2c0f184c",
   "metadata": {},
   "outputs": [],
   "source": []
  },
  {
   "cell_type": "markdown",
   "id": "393dcccf",
   "metadata": {},
   "source": [
    "## 5.\tWhat did you learn? Use Markdown or comments to enter your answer.\n",
    "### 5a.\tExplain the difference between idxdf and chddf."
   ]
  },
  {
   "cell_type": "code",
   "execution_count": null,
   "id": "fcba109e",
   "metadata": {},
   "outputs": [],
   "source": []
  },
  {
   "cell_type": "markdown",
   "id": "3098930a",
   "metadata": {},
   "source": [
    "### 5b.\tBased on your experience of this data, suggest two ways in which chgrdf could be tidied, to enhance analysis."
   ]
  },
  {
   "cell_type": "code",
   "execution_count": null,
   "id": "2b22a801",
   "metadata": {},
   "outputs": [],
   "source": []
  },
  {
   "cell_type": "markdown",
   "id": "441dec56",
   "metadata": {},
   "source": [
    "# BEFORE YOU SUBMIT:\n",
    "Restart and run all, to make sure you have no errors."
   ]
  },
  {
   "cell_type": "code",
   "execution_count": null,
   "id": "d31b60a5",
   "metadata": {},
   "outputs": [],
   "source": []
  }
 ],
 "metadata": {
  "kernelspec": {
   "display_name": "Python 3 (ipykernel)",
   "language": "python",
   "name": "python3"
  },
  "language_info": {
   "codemirror_mode": {
    "name": "ipython",
    "version": 3
   },
   "file_extension": ".py",
   "mimetype": "text/x-python",
   "name": "python",
   "nbconvert_exporter": "python",
   "pygments_lexer": "ipython3",
   "version": "3.10.11"
  }
 },
 "nbformat": 4,
 "nbformat_minor": 5
}
