{
 "cells": [
  {
   "cell_type": "markdown",
   "id": "5d14d68d",
   "metadata": {},
   "source": [
    "# Pandas - tidying data\n",
    "\n",
    "This notebook illustrates how data can be joined and queried accurately, even if the data is not 'tidy'.  The first step is to tidy it.  This involves resolving issues where :\n",
    "\n",
    " - 1 columns contain values, not variables.\n",
    " \n",
    " - 2 columns contain multiple variables.\n",
    " \n",
    " - 3 both rows and columns contain variables.\n",
    " \n",
    " - 4 there are multiple observational units in a table.\n",
    " \n",
    " - 5 observational units are stored in multiple datasets.\n",
    " \n",
    " This process will require the use of Pandas functions:\n",
    " \n",
    "  - melt\n",
    "  - split\n",
    "  - concat\n",
    "  - pivot_table\n",
    "  - drop_duplicates\n",
    "  - merge\n",
    "  \n",
    "  We will also retrieve a set of data files from a URL and save them locally."
   ]
  },
  {
   "cell_type": "markdown",
   "id": "b0eb4b72",
   "metadata": {},
   "source": [
    "### Establish current working directory and set up a path to your data folder."
   ]
  },
  {
   "cell_type": "code",
   "execution_count": 1,
   "id": "ccb20839",
   "metadata": {},
   "outputs": [
    {
     "data": {
      "text/plain": [
       "'/Users/callumobrien/GitHub/databases-2/mongo-test-practice'"
      ]
     },
     "execution_count": 1,
     "metadata": {},
     "output_type": "execute_result"
    }
   ],
   "source": [
    "import os\n",
    "os.getcwd()"
   ]
  },
  {
   "cell_type": "code",
   "execution_count": 2,
   "id": "7a3b6a4d",
   "metadata": {},
   "outputs": [],
   "source": [
    "import pandas as pd\n",
    "from os.path import join"
   ]
  },
  {
   "cell_type": "markdown",
   "id": "83524c99",
   "metadata": {},
   "source": [
    "### CHANGE datapath to wherever you downloaded the datasets"
   ]
  },
  {
   "cell_type": "code",
   "execution_count": 3,
   "id": "fb3e675f",
   "metadata": {},
   "outputs": [],
   "source": [
    "datapath = join('..','..','Datasets')"
   ]
  },
  {
   "cell_type": "code",
   "execution_count": 4,
   "id": "150620a2",
   "metadata": {},
   "outputs": [],
   "source": [
    "from os import listdir\n",
    "# listdir(datapath)"
   ]
  },
  {
   "cell_type": "markdown",
   "id": "34ea83a7",
   "metadata": {},
   "source": [
    "## 1. Columns contain values, not variables\n",
    "\n",
    "In this example, rather than having separate columns for the different income brackets, we want a single column with income in it. This will make the table bigger, because there will be a row for each religion for each income bracket.  We make what is known as a 'wide' table into a 'long' table."
   ]
  },
  {
   "cell_type": "code",
   "execution_count": 5,
   "id": "23d0f162",
   "metadata": {},
   "outputs": [],
   "source": [
    "df = pd.read_csv(\"UntidyMonthlyUnemployment.csv\")"
   ]
  },
  {
   "cell_type": "code",
   "execution_count": 6,
   "id": "96843803",
   "metadata": {},
   "outputs": [
    {
     "data": {
      "text/html": [
       "<div>\n",
       "<style scoped>\n",
       "    .dataframe tbody tr th:only-of-type {\n",
       "        vertical-align: middle;\n",
       "    }\n",
       "\n",
       "    .dataframe tbody tr th {\n",
       "        vertical-align: top;\n",
       "    }\n",
       "\n",
       "    .dataframe thead th {\n",
       "        text-align: right;\n",
       "    }\n",
       "</style>\n",
       "<table border=\"1\" class=\"dataframe\">\n",
       "  <thead>\n",
       "    <tr style=\"text-align: right;\">\n",
       "      <th></th>\n",
       "      <th>Unnamed: 0</th>\n",
       "      <th>Advanced Economies</th>\n",
       "      <th>Argentina</th>\n",
       "      <th>Australia</th>\n",
       "      <th>Austria</th>\n",
       "      <th>Belgium</th>\n",
       "      <th>Bulgaria</th>\n",
       "      <th>Bahrain</th>\n",
       "      <th>Belarus</th>\n",
       "      <th>Brazil</th>\n",
       "      <th>...</th>\n",
       "      <th>Thailand</th>\n",
       "      <th>Tunisia</th>\n",
       "      <th>Turkey</th>\n",
       "      <th>Taiwan, China</th>\n",
       "      <th>Uruguay</th>\n",
       "      <th>United States</th>\n",
       "      <th>Venezuela, RB</th>\n",
       "      <th>Vietnam</th>\n",
       "      <th>World (WBG members)</th>\n",
       "      <th>South Africa</th>\n",
       "    </tr>\n",
       "  </thead>\n",
       "  <tbody>\n",
       "    <tr>\n",
       "      <th>0</th>\n",
       "      <td>NaN</td>\n",
       "      <td>NaN</td>\n",
       "      <td>NaN</td>\n",
       "      <td>NaN</td>\n",
       "      <td>NaN</td>\n",
       "      <td>NaN</td>\n",
       "      <td>NaN</td>\n",
       "      <td>NaN</td>\n",
       "      <td>NaN</td>\n",
       "      <td>NaN</td>\n",
       "      <td>...</td>\n",
       "      <td>NaN</td>\n",
       "      <td>NaN</td>\n",
       "      <td>NaN</td>\n",
       "      <td>NaN</td>\n",
       "      <td>NaN</td>\n",
       "      <td>NaN</td>\n",
       "      <td>NaN</td>\n",
       "      <td>NaN</td>\n",
       "      <td>NaN</td>\n",
       "      <td>NaN</td>\n",
       "    </tr>\n",
       "    <tr>\n",
       "      <th>1</th>\n",
       "      <td>1990M01</td>\n",
       "      <td>5.810216</td>\n",
       "      <td>NaN</td>\n",
       "      <td>6.213296</td>\n",
       "      <td>5.306584</td>\n",
       "      <td>6.831543</td>\n",
       "      <td>NaN</td>\n",
       "      <td>NaN</td>\n",
       "      <td>NaN</td>\n",
       "      <td>NaN</td>\n",
       "      <td>...</td>\n",
       "      <td>NaN</td>\n",
       "      <td>NaN</td>\n",
       "      <td>NaN</td>\n",
       "      <td>1.5</td>\n",
       "      <td>NaN</td>\n",
       "      <td>5.4</td>\n",
       "      <td>NaN</td>\n",
       "      <td>NaN</td>\n",
       "      <td>NaN</td>\n",
       "      <td>NaN</td>\n",
       "    </tr>\n",
       "  </tbody>\n",
       "</table>\n",
       "<p>2 rows × 85 columns</p>\n",
       "</div>"
      ],
      "text/plain": [
       "  Unnamed: 0  Advanced Economies  Argentina  Australia   Austria   Belgium  \\\n",
       "0        NaN                 NaN        NaN        NaN       NaN       NaN   \n",
       "1    1990M01            5.810216        NaN   6.213296  5.306584  6.831543   \n",
       "\n",
       "   Bulgaria  Bahrain  Belarus  Brazil  ...  Thailand  Tunisia  Turkey  \\\n",
       "0       NaN      NaN      NaN     NaN  ...       NaN      NaN     NaN   \n",
       "1       NaN      NaN      NaN     NaN  ...       NaN      NaN     NaN   \n",
       "\n",
       "   Taiwan, China  Uruguay  United States  Venezuela, RB  Vietnam  \\\n",
       "0            NaN      NaN            NaN            NaN      NaN   \n",
       "1            1.5      NaN            5.4            NaN      NaN   \n",
       "\n",
       "   World (WBG members)  South Africa  \n",
       "0                  NaN           NaN  \n",
       "1                  NaN           NaN  \n",
       "\n",
       "[2 rows x 85 columns]"
      ]
     },
     "execution_count": 6,
     "metadata": {},
     "output_type": "execute_result"
    }
   ],
   "source": [
    "df.head(2)"
   ]
  },
  {
   "cell_type": "code",
   "execution_count": 7,
   "id": "4afd4b83",
   "metadata": {},
   "outputs": [
    {
     "data": {
      "text/plain": [
       "Index(['Unnamed: 0', 'Advanced Economies', 'Argentina', 'Australia', 'Austria',\n",
       "       'Belgium', 'Bulgaria', 'Bahrain', 'Belarus', 'Brazil', 'Canada',\n",
       "       'Switzerland', 'Chile', 'China', 'Colombia', 'Cyprus', 'Czech Republic',\n",
       "       'Germany', 'Denmark', 'Dominican Republic', 'Algeria',\n",
       "       'EMDE East Asia & Pacific', 'EMDE Europe & Central Asia', 'Ecuador',\n",
       "       'Egypt, Arab Rep.', 'Emerging Market and Developing Economies (EMDEs)',\n",
       "       'Spain', 'Estonia', 'Finland', 'France', 'United Kingdom', 'Greece',\n",
       "       'High Income Countries', 'Hong Kong SAR, China', 'Croatia', 'Hungary',\n",
       "       'India', 'Ireland', 'Iceland', 'Israel', 'Italy', 'Jordan', 'Japan',\n",
       "       'Kazakhstan', 'Korea, Rep.', 'EMDE Latin America & Caribbean',\n",
       "       'Low-Income Countries (LIC)', 'Sri Lanka', 'Lithuania', 'Luxembourg',\n",
       "       'Latvia', 'Morocco', 'Moldova, Rep.', 'Mexico',\n",
       "       'Middle-Income Countries (MIC)', 'North Macedonia', 'Malta',\n",
       "       'EMDE Middle East & N. Africa', 'Netherlands', 'Norway', 'New Zealand',\n",
       "       'Pakistan', 'Peru', 'Philippines', 'Poland', 'Portugal', 'Romania',\n",
       "       'Russian Federation', 'EMDE South Asia', 'Saudi Arabia', 'Singapore',\n",
       "       'EMDE Sub-Saharan Africa', 'Slovakia', 'Slovenia', 'Sweden', 'Thailand',\n",
       "       'Tunisia', 'Turkey', 'Taiwan, China', 'Uruguay', 'United States',\n",
       "       'Venezuela, RB', 'Vietnam', 'World (WBG members)', 'South Africa'],\n",
       "      dtype='object')"
      ]
     },
     "execution_count": 7,
     "metadata": {},
     "output_type": "execute_result"
    }
   ],
   "source": [
    "df.columns"
   ]
  },
  {
   "cell_type": "markdown",
   "id": "912015eb",
   "metadata": {},
   "source": [
    "# Intervention 1\n",
    " What are the columns?"
   ]
  },
  {
   "cell_type": "markdown",
   "id": "2d6dfbc0",
   "metadata": {},
   "source": [
    " - 'Unnamed: 0' seems to be the year and month.  This needs to be renamed.\n",
    "\n",
    " - Some columns are groups - we can omit them:\n",
    "    'Advanced.Economies','EMDE.East.Asia...Pacific','EMDE.Europe...Central.Asia','EMDE.Middle.East...N..Africa','EMDE.South.Asia',\n",
    "    'EMDE.Sub.Saharan.Africa','Emerging.Market.and.Developing.Economies..EMDEs.','High.Income.Countries', 'Middle.Income.Countries..MIC.', 'World..WBG.members.'"
   ]
  },
  {
   "cell_type": "code",
   "execution_count": 8,
   "id": "fbfa62ce",
   "metadata": {},
   "outputs": [
    {
     "data": {
      "text/html": [
       "<div>\n",
       "<style scoped>\n",
       "    .dataframe tbody tr th:only-of-type {\n",
       "        vertical-align: middle;\n",
       "    }\n",
       "\n",
       "    .dataframe tbody tr th {\n",
       "        vertical-align: top;\n",
       "    }\n",
       "\n",
       "    .dataframe thead th {\n",
       "        text-align: right;\n",
       "    }\n",
       "</style>\n",
       "<table border=\"1\" class=\"dataframe\">\n",
       "  <thead>\n",
       "    <tr style=\"text-align: right;\">\n",
       "      <th></th>\n",
       "      <th>MonYear</th>\n",
       "      <th>Argentina</th>\n",
       "      <th>Australia</th>\n",
       "      <th>Austria</th>\n",
       "      <th>Belgium</th>\n",
       "      <th>Bulgaria</th>\n",
       "      <th>Bahrain</th>\n",
       "      <th>Belarus</th>\n",
       "      <th>Brazil</th>\n",
       "      <th>Canada</th>\n",
       "      <th>...</th>\n",
       "      <th>Sweden</th>\n",
       "      <th>Thailand</th>\n",
       "      <th>Tunisia</th>\n",
       "      <th>Turkey</th>\n",
       "      <th>Taiwan, China</th>\n",
       "      <th>Uruguay</th>\n",
       "      <th>United States</th>\n",
       "      <th>Venezuela, RB</th>\n",
       "      <th>Vietnam</th>\n",
       "      <th>South Africa</th>\n",
       "    </tr>\n",
       "  </thead>\n",
       "  <tbody>\n",
       "    <tr>\n",
       "      <th>0</th>\n",
       "      <td>NaN</td>\n",
       "      <td>NaN</td>\n",
       "      <td>NaN</td>\n",
       "      <td>NaN</td>\n",
       "      <td>NaN</td>\n",
       "      <td>NaN</td>\n",
       "      <td>NaN</td>\n",
       "      <td>NaN</td>\n",
       "      <td>NaN</td>\n",
       "      <td>NaN</td>\n",
       "      <td>...</td>\n",
       "      <td>NaN</td>\n",
       "      <td>NaN</td>\n",
       "      <td>NaN</td>\n",
       "      <td>NaN</td>\n",
       "      <td>NaN</td>\n",
       "      <td>NaN</td>\n",
       "      <td>NaN</td>\n",
       "      <td>NaN</td>\n",
       "      <td>NaN</td>\n",
       "      <td>NaN</td>\n",
       "    </tr>\n",
       "    <tr>\n",
       "      <th>1</th>\n",
       "      <td>1990M01</td>\n",
       "      <td>NaN</td>\n",
       "      <td>6.213296</td>\n",
       "      <td>5.306584</td>\n",
       "      <td>6.831543</td>\n",
       "      <td>NaN</td>\n",
       "      <td>NaN</td>\n",
       "      <td>NaN</td>\n",
       "      <td>NaN</td>\n",
       "      <td>7.9</td>\n",
       "      <td>...</td>\n",
       "      <td>2.182138</td>\n",
       "      <td>NaN</td>\n",
       "      <td>NaN</td>\n",
       "      <td>NaN</td>\n",
       "      <td>1.5</td>\n",
       "      <td>NaN</td>\n",
       "      <td>5.4</td>\n",
       "      <td>NaN</td>\n",
       "      <td>NaN</td>\n",
       "      <td>NaN</td>\n",
       "    </tr>\n",
       "  </tbody>\n",
       "</table>\n",
       "<p>2 rows × 75 columns</p>\n",
       "</div>"
      ],
      "text/plain": [
       "   MonYear  Argentina  Australia   Austria   Belgium  Bulgaria  Bahrain  \\\n",
       "0      NaN        NaN        NaN       NaN       NaN       NaN      NaN   \n",
       "1  1990M01        NaN   6.213296  5.306584  6.831543       NaN      NaN   \n",
       "\n",
       "   Belarus  Brazil  Canada  ...    Sweden  Thailand  Tunisia  Turkey  \\\n",
       "0      NaN     NaN     NaN  ...       NaN       NaN      NaN     NaN   \n",
       "1      NaN     NaN     7.9  ...  2.182138       NaN      NaN     NaN   \n",
       "\n",
       "   Taiwan, China  Uruguay  United States  Venezuela, RB  Vietnam  South Africa  \n",
       "0            NaN      NaN            NaN            NaN      NaN           NaN  \n",
       "1            1.5      NaN            5.4            NaN      NaN           NaN  \n",
       "\n",
       "[2 rows x 75 columns]"
      ]
     },
     "execution_count": 8,
     "metadata": {},
     "output_type": "execute_result"
    }
   ],
   "source": [
    "unwantedcolumns= ['Advanced Economies',\n",
    "       'EMDE East Asia & Pacific', 'EMDE Europe & Central Asia',  'Emerging Market and Developing Economies (EMDEs)',\n",
    "       'High Income Countries',  'Low-Income Countries (LIC)', 'Middle-Income Countries (MIC)',  'EMDE Middle East & N. Africa',\n",
    "       'EMDE Sub-Saharan Africa',  'World (WBG members)']\n",
    "# drop the unwanted columns, making sure that you've checked inplace=True:\n",
    "df.drop(columns=unwantedcolumns, inplace=True)\n",
    "#Rename the column 'Unnamed: 0' to 'MonYear', again, making sure inplace=True\n",
    "df.rename(columns={'Unnamed: 0':'MonYear'}, inplace=True)\n",
    "df.head(2)"
   ]
  },
  {
   "cell_type": "code",
   "execution_count": 9,
   "id": "50127449",
   "metadata": {},
   "outputs": [
    {
     "data": {
      "text/plain": [
       "MonYear          356\n",
       "Argentina        210\n",
       "Australia        356\n",
       "Austria          356\n",
       "Belgium          355\n",
       "                ... \n",
       "Uruguay          102\n",
       "United States     61\n",
       "Venezuela, RB    208\n",
       "Vietnam           11\n",
       "South Africa     228\n",
       "Length: 75, dtype: int64"
      ]
     },
     "execution_count": 9,
     "metadata": {},
     "output_type": "execute_result"
    }
   ],
   "source": [
    "#Check the number of unique values in each column\n",
    "df.nunique()"
   ]
  },
  {
   "cell_type": "code",
   "execution_count": 10,
   "id": "964e5d5c",
   "metadata": {},
   "outputs": [
    {
     "name": "stdout",
     "output_type": "stream",
     "text": [
      "MonYear          356\n",
      "Argentina        210\n",
      "Australia        356\n",
      "Austria          356\n",
      "Belgium          355\n",
      "                ... \n",
      "Uruguay          102\n",
      "United States     61\n",
      "Venezuela, RB    208\n",
      "Vietnam           11\n",
      "South Africa     228\n",
      "Length: 75, dtype: int64\n"
     ]
    }
   ],
   "source": [
    "print(df.nunique())"
   ]
  },
  {
   "cell_type": "code",
   "execution_count": 11,
   "id": "66633604",
   "metadata": {},
   "outputs": [],
   "source": [
    "df.dropna(how='all',inplace=True)"
   ]
  },
  {
   "cell_type": "code",
   "execution_count": 12,
   "id": "70edce1c",
   "metadata": {},
   "outputs": [
    {
     "data": {
      "text/plain": [
       "Index(['MonYear', 'Argentina', 'Australia', 'Austria', 'Belgium', 'Bulgaria',\n",
       "       'Bahrain', 'Belarus', 'Brazil', 'Canada', 'Switzerland', 'Chile',\n",
       "       'China', 'Colombia', 'Cyprus', 'Czech Republic', 'Germany', 'Denmark',\n",
       "       'Dominican Republic', 'Algeria', 'Ecuador', 'Egypt, Arab Rep.', 'Spain',\n",
       "       'Estonia', 'Finland', 'France', 'United Kingdom', 'Greece',\n",
       "       'Hong Kong SAR, China', 'Croatia', 'Hungary', 'India', 'Ireland',\n",
       "       'Iceland', 'Israel', 'Italy', 'Jordan', 'Japan', 'Kazakhstan',\n",
       "       'Korea, Rep.', 'EMDE Latin America & Caribbean', 'Sri Lanka',\n",
       "       'Lithuania', 'Luxembourg', 'Latvia', 'Morocco', 'Moldova, Rep.',\n",
       "       'Mexico', 'North Macedonia', 'Malta', 'Netherlands', 'Norway',\n",
       "       'New Zealand', 'Pakistan', 'Peru', 'Philippines', 'Poland', 'Portugal',\n",
       "       'Romania', 'Russian Federation', 'EMDE South Asia', 'Saudi Arabia',\n",
       "       'Singapore', 'Slovakia', 'Slovenia', 'Sweden', 'Thailand', 'Tunisia',\n",
       "       'Turkey', 'Taiwan, China', 'Uruguay', 'United States', 'Venezuela, RB',\n",
       "       'Vietnam', 'South Africa'],\n",
       "      dtype='object')"
      ]
     },
     "execution_count": 12,
     "metadata": {},
     "output_type": "execute_result"
    }
   ],
   "source": [
    "df.columns"
   ]
  },
  {
   "cell_type": "markdown",
   "id": "f01bbc4c",
   "metadata": {},
   "source": [
    "## The melt function\n",
    "\n",
    " - id_vars is a container (it can be a list, tuple or np array) for variables that will remain the same.\n",
    " \n",
    " - value_vars identifies the columns you want to meld down (or unpivot).  If this is not specified, the default is all columns not in id_vars.\n",
    " \n",
    " - var_name is then new column name where the value_vars is melted into (default name 'variable').\n",
    " \n",
    " - value_name is the new column name representing the values for var_name (default name 'value)."
   ]
  },
  {
   "cell_type": "markdown",
   "id": "94f899ea",
   "metadata": {},
   "source": [
    "# Intervention 2\n",
    "\n",
    "Fill out the instruction below, providing the dataframe name, the id_vars value and the var_name value"
   ]
  },
  {
   "cell_type": "code",
   "execution_count": 13,
   "id": "b7f725f2",
   "metadata": {},
   "outputs": [
    {
     "data": {
      "text/html": [
       "<div>\n",
       "<style scoped>\n",
       "    .dataframe tbody tr th:only-of-type {\n",
       "        vertical-align: middle;\n",
       "    }\n",
       "\n",
       "    .dataframe tbody tr th {\n",
       "        vertical-align: top;\n",
       "    }\n",
       "\n",
       "    .dataframe thead th {\n",
       "        text-align: right;\n",
       "    }\n",
       "</style>\n",
       "<table border=\"1\" class=\"dataframe\">\n",
       "  <thead>\n",
       "    <tr style=\"text-align: right;\">\n",
       "      <th></th>\n",
       "      <th>MonYear</th>\n",
       "      <th>Country</th>\n",
       "      <th>UnemploymentRate</th>\n",
       "    </tr>\n",
       "  </thead>\n",
       "  <tbody>\n",
       "    <tr>\n",
       "      <th>0</th>\n",
       "      <td>1990M01</td>\n",
       "      <td>Argentina</td>\n",
       "      <td>NaN</td>\n",
       "    </tr>\n",
       "    <tr>\n",
       "      <th>1</th>\n",
       "      <td>1990M02</td>\n",
       "      <td>Argentina</td>\n",
       "      <td>NaN</td>\n",
       "    </tr>\n",
       "    <tr>\n",
       "      <th>2</th>\n",
       "      <td>1990M03</td>\n",
       "      <td>Argentina</td>\n",
       "      <td>NaN</td>\n",
       "    </tr>\n",
       "    <tr>\n",
       "      <th>3</th>\n",
       "      <td>1990M04</td>\n",
       "      <td>Argentina</td>\n",
       "      <td>NaN</td>\n",
       "    </tr>\n",
       "    <tr>\n",
       "      <th>4</th>\n",
       "      <td>1990M05</td>\n",
       "      <td>Argentina</td>\n",
       "      <td>NaN</td>\n",
       "    </tr>\n",
       "    <tr>\n",
       "      <th>...</th>\n",
       "      <td>...</td>\n",
       "      <td>...</td>\n",
       "      <td>...</td>\n",
       "    </tr>\n",
       "    <tr>\n",
       "      <th>26339</th>\n",
       "      <td>2019M04</td>\n",
       "      <td>South Africa</td>\n",
       "      <td>28.54231</td>\n",
       "    </tr>\n",
       "    <tr>\n",
       "      <th>26340</th>\n",
       "      <td>2019M05</td>\n",
       "      <td>South Africa</td>\n",
       "      <td>28.70605</td>\n",
       "    </tr>\n",
       "    <tr>\n",
       "      <th>26341</th>\n",
       "      <td>2019M06</td>\n",
       "      <td>South Africa</td>\n",
       "      <td>28.85622</td>\n",
       "    </tr>\n",
       "    <tr>\n",
       "      <th>26342</th>\n",
       "      <td>2019M07</td>\n",
       "      <td>South Africa</td>\n",
       "      <td>NaN</td>\n",
       "    </tr>\n",
       "    <tr>\n",
       "      <th>26343</th>\n",
       "      <td>2019M08</td>\n",
       "      <td>South Africa</td>\n",
       "      <td>NaN</td>\n",
       "    </tr>\n",
       "  </tbody>\n",
       "</table>\n",
       "<p>26344 rows × 3 columns</p>\n",
       "</div>"
      ],
      "text/plain": [
       "       MonYear       Country  UnemploymentRate\n",
       "0      1990M01     Argentina               NaN\n",
       "1      1990M02     Argentina               NaN\n",
       "2      1990M03     Argentina               NaN\n",
       "3      1990M04     Argentina               NaN\n",
       "4      1990M05     Argentina               NaN\n",
       "...        ...           ...               ...\n",
       "26339  2019M04  South Africa          28.54231\n",
       "26340  2019M05  South Africa          28.70605\n",
       "26341  2019M06  South Africa          28.85622\n",
       "26342  2019M07  South Africa               NaN\n",
       "26343  2019M08  South Africa               NaN\n",
       "\n",
       "[26344 rows x 3 columns]"
      ]
     },
     "execution_count": 13,
     "metadata": {},
     "output_type": "execute_result"
    }
   ],
   "source": [
    "dflong = pd.melt(\n",
    "    df, id_vars='MonYear', \n",
    "    var_name='Country',\n",
    "    value_name='UnemploymentRate')\n",
    "dflong"
   ]
  },
  {
   "cell_type": "code",
   "execution_count": null,
   "id": "1940cdb0",
   "metadata": {},
   "outputs": [],
   "source": []
  },
  {
   "cell_type": "markdown",
   "id": "0600fc3d",
   "metadata": {},
   "source": [
    "# Intervention 3 \n",
    "\n",
    "Split the MonYear column on the 'M'."
   ]
  },
  {
   "cell_type": "code",
   "execution_count": 14,
   "id": "eca853e5",
   "metadata": {},
   "outputs": [],
   "source": [
    "#Using df.column.str.split('<string>').str.get(0), extract the year and add it to the dataframe"
   ]
  },
  {
   "cell_type": "code",
   "execution_count": 15,
   "id": "8d2e5f7c",
   "metadata": {},
   "outputs": [
    {
     "data": {
      "text/html": [
       "<div>\n",
       "<style scoped>\n",
       "    .dataframe tbody tr th:only-of-type {\n",
       "        vertical-align: middle;\n",
       "    }\n",
       "\n",
       "    .dataframe tbody tr th {\n",
       "        vertical-align: top;\n",
       "    }\n",
       "\n",
       "    .dataframe thead th {\n",
       "        text-align: right;\n",
       "    }\n",
       "</style>\n",
       "<table border=\"1\" class=\"dataframe\">\n",
       "  <thead>\n",
       "    <tr style=\"text-align: right;\">\n",
       "      <th></th>\n",
       "      <th>MonYear</th>\n",
       "      <th>Country</th>\n",
       "      <th>UnemploymentRate</th>\n",
       "      <th>Month</th>\n",
       "      <th>Year</th>\n",
       "    </tr>\n",
       "  </thead>\n",
       "  <tbody>\n",
       "    <tr>\n",
       "      <th>0</th>\n",
       "      <td>1990M01</td>\n",
       "      <td>Argentina</td>\n",
       "      <td>NaN</td>\n",
       "      <td>1990</td>\n",
       "      <td>01</td>\n",
       "    </tr>\n",
       "    <tr>\n",
       "      <th>1</th>\n",
       "      <td>1990M02</td>\n",
       "      <td>Argentina</td>\n",
       "      <td>NaN</td>\n",
       "      <td>1990</td>\n",
       "      <td>02</td>\n",
       "    </tr>\n",
       "    <tr>\n",
       "      <th>2</th>\n",
       "      <td>1990M03</td>\n",
       "      <td>Argentina</td>\n",
       "      <td>NaN</td>\n",
       "      <td>1990</td>\n",
       "      <td>03</td>\n",
       "    </tr>\n",
       "    <tr>\n",
       "      <th>3</th>\n",
       "      <td>1990M04</td>\n",
       "      <td>Argentina</td>\n",
       "      <td>NaN</td>\n",
       "      <td>1990</td>\n",
       "      <td>04</td>\n",
       "    </tr>\n",
       "    <tr>\n",
       "      <th>4</th>\n",
       "      <td>1990M05</td>\n",
       "      <td>Argentina</td>\n",
       "      <td>NaN</td>\n",
       "      <td>1990</td>\n",
       "      <td>05</td>\n",
       "    </tr>\n",
       "  </tbody>\n",
       "</table>\n",
       "</div>"
      ],
      "text/plain": [
       "   MonYear    Country  UnemploymentRate Month Year\n",
       "0  1990M01  Argentina               NaN  1990   01\n",
       "1  1990M02  Argentina               NaN  1990   02\n",
       "2  1990M03  Argentina               NaN  1990   03\n",
       "3  1990M04  Argentina               NaN  1990   04\n",
       "4  1990M05  Argentina               NaN  1990   05"
      ]
     },
     "execution_count": 15,
     "metadata": {},
     "output_type": "execute_result"
    }
   ],
   "source": [
    "split = dflong.MonYear.str.split('M')\n",
    "dflong['Month'] = split.str.get(0)\n",
    "dflong['Year'] = split.str.get(1)\n",
    "dflong.head()"
   ]
  },
  {
   "cell_type": "code",
   "execution_count": 16,
   "id": "eb0cf7ae",
   "metadata": {},
   "outputs": [],
   "source": [
    "#drop the MonYear column\n",
    "df.drop(columns='MonYear', inplace=True)"
   ]
  },
  {
   "cell_type": "code",
   "execution_count": 17,
   "id": "86a24a00",
   "metadata": {},
   "outputs": [
    {
     "data": {
      "text/html": [
       "<div>\n",
       "<style scoped>\n",
       "    .dataframe tbody tr th:only-of-type {\n",
       "        vertical-align: middle;\n",
       "    }\n",
       "\n",
       "    .dataframe tbody tr th {\n",
       "        vertical-align: top;\n",
       "    }\n",
       "\n",
       "    .dataframe thead th {\n",
       "        text-align: right;\n",
       "    }\n",
       "</style>\n",
       "<table border=\"1\" class=\"dataframe\">\n",
       "  <thead>\n",
       "    <tr style=\"text-align: right;\">\n",
       "      <th></th>\n",
       "      <th>Country</th>\n",
       "      <th>UnemploymentRate</th>\n",
       "      <th>Month</th>\n",
       "      <th>Year</th>\n",
       "    </tr>\n",
       "  </thead>\n",
       "  <tbody>\n",
       "    <tr>\n",
       "      <th>0</th>\n",
       "      <td>Argentina</td>\n",
       "      <td>NaN</td>\n",
       "      <td>1990</td>\n",
       "      <td>01</td>\n",
       "    </tr>\n",
       "    <tr>\n",
       "      <th>1</th>\n",
       "      <td>Argentina</td>\n",
       "      <td>NaN</td>\n",
       "      <td>1990</td>\n",
       "      <td>02</td>\n",
       "    </tr>\n",
       "  </tbody>\n",
       "</table>\n",
       "</div>"
      ],
      "text/plain": [
       "     Country  UnemploymentRate Month Year\n",
       "0  Argentina               NaN  1990   01\n",
       "1  Argentina               NaN  1990   02"
      ]
     },
     "execution_count": 17,
     "metadata": {},
     "output_type": "execute_result"
    }
   ],
   "source": [
    "dflong.drop(columns=['MonYear'],inplace=True)\n",
    "dflong.head(2)"
   ]
  },
  {
   "cell_type": "markdown",
   "id": "62b993a7",
   "metadata": {},
   "source": [
    "# Intervention 4 \n",
    "\n",
    "What values are there for year?"
   ]
  },
  {
   "cell_type": "code",
   "execution_count": 18,
   "id": "8471704a",
   "metadata": {},
   "outputs": [
    {
     "data": {
      "text/plain": [
       "array(['01', '02', '03', '04', '05', '06', '07', '08', '09', '10', '11',\n",
       "       '12'], dtype=object)"
      ]
     },
     "execution_count": 18,
     "metadata": {},
     "output_type": "execute_result"
    }
   ],
   "source": [
    "dflong.Year.unique()"
   ]
  },
  {
   "cell_type": "code",
   "execution_count": 19,
   "id": "6231e672",
   "metadata": {},
   "outputs": [
    {
     "data": {
      "text/plain": [
       "array(['1990', '1991', '1992', '1993', '1994', '1995', '1996', '1997',\n",
       "       '1998', '1999', '2000', '2001', '2002', '2003', '2004', '2005',\n",
       "       '2006', '2007', '2008', '2009', '2010', '2011', '2012', '2013',\n",
       "       '2014', '2015', '2016', '2017', '2018', '2019'], dtype=object)"
      ]
     },
     "execution_count": 19,
     "metadata": {},
     "output_type": "execute_result"
    }
   ],
   "source": [
    "dflong.Month.unique()"
   ]
  },
  {
   "cell_type": "code",
   "execution_count": 20,
   "id": "9d8cceaf",
   "metadata": {},
   "outputs": [
    {
     "data": {
      "text/html": [
       "<div>\n",
       "<style scoped>\n",
       "    .dataframe tbody tr th:only-of-type {\n",
       "        vertical-align: middle;\n",
       "    }\n",
       "\n",
       "    .dataframe tbody tr th {\n",
       "        vertical-align: top;\n",
       "    }\n",
       "\n",
       "    .dataframe thead th {\n",
       "        text-align: right;\n",
       "    }\n",
       "</style>\n",
       "<table border=\"1\" class=\"dataframe\">\n",
       "  <thead>\n",
       "    <tr style=\"text-align: right;\">\n",
       "      <th></th>\n",
       "      <th>Country</th>\n",
       "      <th>UnemploymentRate</th>\n",
       "      <th>Month</th>\n",
       "      <th>Year</th>\n",
       "    </tr>\n",
       "  </thead>\n",
       "  <tbody>\n",
       "    <tr>\n",
       "      <th>0</th>\n",
       "      <td>Argentina</td>\n",
       "      <td>NaN</td>\n",
       "      <td>1990</td>\n",
       "      <td>01</td>\n",
       "    </tr>\n",
       "    <tr>\n",
       "      <th>1</th>\n",
       "      <td>Argentina</td>\n",
       "      <td>NaN</td>\n",
       "      <td>1990</td>\n",
       "      <td>02</td>\n",
       "    </tr>\n",
       "    <tr>\n",
       "      <th>2</th>\n",
       "      <td>Argentina</td>\n",
       "      <td>NaN</td>\n",
       "      <td>1990</td>\n",
       "      <td>03</td>\n",
       "    </tr>\n",
       "    <tr>\n",
       "      <th>3</th>\n",
       "      <td>Argentina</td>\n",
       "      <td>NaN</td>\n",
       "      <td>1990</td>\n",
       "      <td>04</td>\n",
       "    </tr>\n",
       "    <tr>\n",
       "      <th>4</th>\n",
       "      <td>Argentina</td>\n",
       "      <td>NaN</td>\n",
       "      <td>1990</td>\n",
       "      <td>05</td>\n",
       "    </tr>\n",
       "    <tr>\n",
       "      <th>...</th>\n",
       "      <td>...</td>\n",
       "      <td>...</td>\n",
       "      <td>...</td>\n",
       "      <td>...</td>\n",
       "    </tr>\n",
       "    <tr>\n",
       "      <th>26111</th>\n",
       "      <td>South Africa</td>\n",
       "      <td>NaN</td>\n",
       "      <td>2000</td>\n",
       "      <td>04</td>\n",
       "    </tr>\n",
       "    <tr>\n",
       "      <th>26112</th>\n",
       "      <td>South Africa</td>\n",
       "      <td>NaN</td>\n",
       "      <td>2000</td>\n",
       "      <td>05</td>\n",
       "    </tr>\n",
       "    <tr>\n",
       "      <th>26113</th>\n",
       "      <td>South Africa</td>\n",
       "      <td>NaN</td>\n",
       "      <td>2000</td>\n",
       "      <td>06</td>\n",
       "    </tr>\n",
       "    <tr>\n",
       "      <th>26342</th>\n",
       "      <td>South Africa</td>\n",
       "      <td>NaN</td>\n",
       "      <td>2019</td>\n",
       "      <td>07</td>\n",
       "    </tr>\n",
       "    <tr>\n",
       "      <th>26343</th>\n",
       "      <td>South Africa</td>\n",
       "      <td>NaN</td>\n",
       "      <td>2019</td>\n",
       "      <td>08</td>\n",
       "    </tr>\n",
       "  </tbody>\n",
       "</table>\n",
       "<p>7045 rows × 4 columns</p>\n",
       "</div>"
      ],
      "text/plain": [
       "            Country  UnemploymentRate Month Year\n",
       "0         Argentina               NaN  1990   01\n",
       "1         Argentina               NaN  1990   02\n",
       "2         Argentina               NaN  1990   03\n",
       "3         Argentina               NaN  1990   04\n",
       "4         Argentina               NaN  1990   05\n",
       "...             ...               ...   ...  ...\n",
       "26111  South Africa               NaN  2000   04\n",
       "26112  South Africa               NaN  2000   05\n",
       "26113  South Africa               NaN  2000   06\n",
       "26342  South Africa               NaN  2019   07\n",
       "26343  South Africa               NaN  2019   08\n",
       "\n",
       "[7045 rows x 4 columns]"
      ]
     },
     "execution_count": 20,
     "metadata": {},
     "output_type": "execute_result"
    }
   ],
   "source": [
    "dflong[dflong['UnemploymentRate'].isna()]"
   ]
  },
  {
   "cell_type": "markdown",
   "id": "4b2c6861",
   "metadata": {},
   "source": [
    "# Intervention 5\n",
    "\n",
    "Extract just the rows with values in them into dfval. Find if there are any NAs.  Check for unique year and month values."
   ]
  },
  {
   "cell_type": "code",
   "execution_count": 21,
   "id": "73f69f6e",
   "metadata": {},
   "outputs": [
    {
     "data": {
      "text/html": [
       "<div>\n",
       "<style scoped>\n",
       "    .dataframe tbody tr th:only-of-type {\n",
       "        vertical-align: middle;\n",
       "    }\n",
       "\n",
       "    .dataframe tbody tr th {\n",
       "        vertical-align: top;\n",
       "    }\n",
       "\n",
       "    .dataframe thead th {\n",
       "        text-align: right;\n",
       "    }\n",
       "</style>\n",
       "<table border=\"1\" class=\"dataframe\">\n",
       "  <thead>\n",
       "    <tr style=\"text-align: right;\">\n",
       "      <th></th>\n",
       "      <th>Country</th>\n",
       "      <th>UnemploymentRate</th>\n",
       "      <th>Month</th>\n",
       "      <th>Year</th>\n",
       "    </tr>\n",
       "  </thead>\n",
       "  <tbody>\n",
       "    <tr>\n",
       "      <th>144</th>\n",
       "      <td>Argentina</td>\n",
       "      <td>23.11113</td>\n",
       "      <td>2002</td>\n",
       "      <td>01</td>\n",
       "    </tr>\n",
       "    <tr>\n",
       "      <th>145</th>\n",
       "      <td>Argentina</td>\n",
       "      <td>23.40373</td>\n",
       "      <td>2002</td>\n",
       "      <td>02</td>\n",
       "    </tr>\n",
       "    <tr>\n",
       "      <th>146</th>\n",
       "      <td>Argentina</td>\n",
       "      <td>23.43957</td>\n",
       "      <td>2002</td>\n",
       "      <td>03</td>\n",
       "    </tr>\n",
       "    <tr>\n",
       "      <th>147</th>\n",
       "      <td>Argentina</td>\n",
       "      <td>23.70204</td>\n",
       "      <td>2002</td>\n",
       "      <td>04</td>\n",
       "    </tr>\n",
       "    <tr>\n",
       "      <th>148</th>\n",
       "      <td>Argentina</td>\n",
       "      <td>23.47715</td>\n",
       "      <td>2002</td>\n",
       "      <td>05</td>\n",
       "    </tr>\n",
       "  </tbody>\n",
       "</table>\n",
       "</div>"
      ],
      "text/plain": [
       "       Country  UnemploymentRate Month Year\n",
       "144  Argentina          23.11113  2002   01\n",
       "145  Argentina          23.40373  2002   02\n",
       "146  Argentina          23.43957  2002   03\n",
       "147  Argentina          23.70204  2002   04\n",
       "148  Argentina          23.47715  2002   05"
      ]
     },
     "execution_count": 21,
     "metadata": {},
     "output_type": "execute_result"
    }
   ],
   "source": [
    "dfval = dflong[dflong['UnemploymentRate'].notna()]\n",
    "dfval.head()"
   ]
  },
  {
   "cell_type": "code",
   "execution_count": 22,
   "id": "a429f94e",
   "metadata": {},
   "outputs": [
    {
     "data": {
      "text/html": [
       "<div>\n",
       "<style scoped>\n",
       "    .dataframe tbody tr th:only-of-type {\n",
       "        vertical-align: middle;\n",
       "    }\n",
       "\n",
       "    .dataframe tbody tr th {\n",
       "        vertical-align: top;\n",
       "    }\n",
       "\n",
       "    .dataframe thead th {\n",
       "        text-align: right;\n",
       "    }\n",
       "</style>\n",
       "<table border=\"1\" class=\"dataframe\">\n",
       "  <thead>\n",
       "    <tr style=\"text-align: right;\">\n",
       "      <th></th>\n",
       "      <th>Country</th>\n",
       "      <th>UnemploymentRate</th>\n",
       "      <th>Month</th>\n",
       "      <th>Year</th>\n",
       "    </tr>\n",
       "  </thead>\n",
       "  <tbody>\n",
       "  </tbody>\n",
       "</table>\n",
       "</div>"
      ],
      "text/plain": [
       "Empty DataFrame\n",
       "Columns: [Country, UnemploymentRate, Month, Year]\n",
       "Index: []"
      ]
     },
     "execution_count": 22,
     "metadata": {},
     "output_type": "execute_result"
    }
   ],
   "source": [
    "dfval[dfval.isna().any(axis=1)]"
   ]
  },
  {
   "cell_type": "code",
   "execution_count": 23,
   "id": "86b95537",
   "metadata": {},
   "outputs": [
    {
     "data": {
      "text/plain": [
       "array(['01', '02', '03', '04', '05', '06', '07', '08', '09', '10', '11',\n",
       "       '12'], dtype=object)"
      ]
     },
     "execution_count": 23,
     "metadata": {},
     "output_type": "execute_result"
    }
   ],
   "source": [
    "dfval.Year.unique()"
   ]
  },
  {
   "cell_type": "markdown",
   "id": "6841174e",
   "metadata": {},
   "source": [
    "#Column values spread across datasets."
   ]
  },
  {
   "cell_type": "code",
   "execution_count": 24,
   "id": "fabbf739",
   "metadata": {},
   "outputs": [],
   "source": [
    "hdf23=pd.read_csv('DataForTable2.1WHR2023.csv')"
   ]
  },
  {
   "cell_type": "code",
   "execution_count": 25,
   "id": "89c11e74",
   "metadata": {},
   "outputs": [],
   "source": [
    "hdf20=pd.read_csv('WHR20_DataForTable2.1.csv')"
   ]
  },
  {
   "cell_type": "markdown",
   "id": "58382ad1",
   "metadata": {},
   "source": [
    "## Find which columns are in each"
   ]
  },
  {
   "cell_type": "code",
   "execution_count": 26,
   "id": "3b07020f",
   "metadata": {},
   "outputs": [
    {
     "data": {
      "text/plain": [
       "Index(['Country name', 'year', 'Life Ladder', 'Log GDP per capita',\n",
       "       'Social support', 'Healthy life expectancy at birth',\n",
       "       'Freedom to make life choices', 'Generosity',\n",
       "       'Perceptions of corruption', 'Positive affect', 'Negative affect'],\n",
       "      dtype='object')"
      ]
     },
     "execution_count": 26,
     "metadata": {},
     "output_type": "execute_result"
    }
   ],
   "source": [
    "hdf23.columns"
   ]
  },
  {
   "cell_type": "code",
   "execution_count": 27,
   "id": "5139c4c4",
   "metadata": {},
   "outputs": [
    {
     "data": {
      "text/plain": [
       "Index(['Country name', 'year', 'Life Ladder', 'Log GDP per capita',\n",
       "       'Social support', 'Healthy life expectancy at birth',\n",
       "       'Freedom to make life choices', 'Generosity',\n",
       "       'Perceptions of corruption', 'Positive affect', 'Negative affect',\n",
       "       'Confidence in national government', 'Democratic Quality',\n",
       "       'Delivery Quality', 'Standard deviation of ladder by country-year',\n",
       "       'Standard deviation/Mean of ladder by country-year',\n",
       "       'GINI index (World Bank estimate)',\n",
       "       'GINI index (World Bank estimate), average 2000-2017, unbalanced panel',\n",
       "       'gini of household income reported in Gallup, by wp5-year',\n",
       "       'Most people can be trusted, Gallup',\n",
       "       'Most people can be trusted, WVS round 1981-1984',\n",
       "       'Most people can be trusted, WVS round 1989-1993',\n",
       "       'Most people can be trusted, WVS round 1994-1998',\n",
       "       'Most people can be trusted, WVS round 1999-2004',\n",
       "       'Most people can be trusted, WVS round 2005-2009',\n",
       "       'Most people can be trusted, WVS round 2010-2014'],\n",
       "      dtype='object')"
      ]
     },
     "execution_count": 27,
     "metadata": {},
     "output_type": "execute_result"
    }
   ],
   "source": [
    "hdf20.columns"
   ]
  },
  {
   "cell_type": "markdown",
   "id": "90236791",
   "metadata": {},
   "source": [
    "Make a small version of hdf20, that has the same columns as hdf23"
   ]
  },
  {
   "cell_type": "code",
   "execution_count": 28,
   "id": "35f6c22d",
   "metadata": {},
   "outputs": [
    {
     "data": {
      "text/plain": [
       "Index(['Country name', 'year', 'Life Ladder', 'Log GDP per capita',\n",
       "       'Social support', 'Healthy life expectancy at birth',\n",
       "       'Freedom to make life choices', 'Generosity',\n",
       "       'Perceptions of corruption', 'Positive affect', 'Negative affect'],\n",
       "      dtype='object')"
      ]
     },
     "execution_count": 28,
     "metadata": {},
     "output_type": "execute_result"
    }
   ],
   "source": [
    "exclude = hdf20.columns.difference(hdf23.columns)\n",
    "hdf20small = hdf20.drop(columns=exclude)\n",
    "hdf20small.columns"
   ]
  },
  {
   "cell_type": "code",
   "execution_count": 29,
   "id": "26cb3b64",
   "metadata": {},
   "outputs": [
    {
     "data": {
      "text/html": [
       "<div>\n",
       "<style scoped>\n",
       "    .dataframe tbody tr th:only-of-type {\n",
       "        vertical-align: middle;\n",
       "    }\n",
       "\n",
       "    .dataframe tbody tr th {\n",
       "        vertical-align: top;\n",
       "    }\n",
       "\n",
       "    .dataframe thead th {\n",
       "        text-align: right;\n",
       "    }\n",
       "</style>\n",
       "<table border=\"1\" class=\"dataframe\">\n",
       "  <thead>\n",
       "    <tr style=\"text-align: right;\">\n",
       "      <th></th>\n",
       "      <th>Country name</th>\n",
       "      <th>year</th>\n",
       "      <th>Life Ladder</th>\n",
       "      <th>Log GDP per capita</th>\n",
       "      <th>Social support</th>\n",
       "      <th>Healthy life expectancy at birth</th>\n",
       "      <th>Freedom to make life choices</th>\n",
       "      <th>Generosity</th>\n",
       "      <th>Perceptions of corruption</th>\n",
       "      <th>Positive affect</th>\n",
       "      <th>Negative affect</th>\n",
       "    </tr>\n",
       "  </thead>\n",
       "  <tbody>\n",
       "    <tr>\n",
       "      <th>0</th>\n",
       "      <td>Afghanistan</td>\n",
       "      <td>2008</td>\n",
       "      <td>3.723590</td>\n",
       "      <td>7.144916</td>\n",
       "      <td>0.450662</td>\n",
       "      <td>50.799999</td>\n",
       "      <td>0.718114</td>\n",
       "      <td>0.178993</td>\n",
       "      <td>0.881686</td>\n",
       "      <td>0.517637</td>\n",
       "      <td>0.258195</td>\n",
       "    </tr>\n",
       "    <tr>\n",
       "      <th>1</th>\n",
       "      <td>Afghanistan</td>\n",
       "      <td>2009</td>\n",
       "      <td>4.401778</td>\n",
       "      <td>7.314788</td>\n",
       "      <td>0.552308</td>\n",
       "      <td>51.200001</td>\n",
       "      <td>0.678896</td>\n",
       "      <td>0.201228</td>\n",
       "      <td>0.850035</td>\n",
       "      <td>0.583926</td>\n",
       "      <td>0.237092</td>\n",
       "    </tr>\n",
       "    <tr>\n",
       "      <th>2</th>\n",
       "      <td>Afghanistan</td>\n",
       "      <td>2010</td>\n",
       "      <td>4.758381</td>\n",
       "      <td>7.421525</td>\n",
       "      <td>0.539075</td>\n",
       "      <td>51.599998</td>\n",
       "      <td>0.600127</td>\n",
       "      <td>0.131578</td>\n",
       "      <td>0.706766</td>\n",
       "      <td>0.618265</td>\n",
       "      <td>0.275324</td>\n",
       "    </tr>\n",
       "    <tr>\n",
       "      <th>3</th>\n",
       "      <td>Afghanistan</td>\n",
       "      <td>2011</td>\n",
       "      <td>3.831719</td>\n",
       "      <td>7.394349</td>\n",
       "      <td>0.521104</td>\n",
       "      <td>51.919998</td>\n",
       "      <td>0.495901</td>\n",
       "      <td>0.173452</td>\n",
       "      <td>0.731109</td>\n",
       "      <td>0.611387</td>\n",
       "      <td>0.267175</td>\n",
       "    </tr>\n",
       "    <tr>\n",
       "      <th>4</th>\n",
       "      <td>Afghanistan</td>\n",
       "      <td>2012</td>\n",
       "      <td>3.782938</td>\n",
       "      <td>7.480296</td>\n",
       "      <td>0.520637</td>\n",
       "      <td>52.240002</td>\n",
       "      <td>0.530935</td>\n",
       "      <td>0.246943</td>\n",
       "      <td>0.775620</td>\n",
       "      <td>0.710385</td>\n",
       "      <td>0.267919</td>\n",
       "    </tr>\n",
       "  </tbody>\n",
       "</table>\n",
       "</div>"
      ],
      "text/plain": [
       "  Country name  year  Life Ladder  Log GDP per capita  Social support  \\\n",
       "0  Afghanistan  2008     3.723590            7.144916        0.450662   \n",
       "1  Afghanistan  2009     4.401778            7.314788        0.552308   \n",
       "2  Afghanistan  2010     4.758381            7.421525        0.539075   \n",
       "3  Afghanistan  2011     3.831719            7.394349        0.521104   \n",
       "4  Afghanistan  2012     3.782938            7.480296        0.520637   \n",
       "\n",
       "   Healthy life expectancy at birth  Freedom to make life choices  Generosity  \\\n",
       "0                         50.799999                      0.718114    0.178993   \n",
       "1                         51.200001                      0.678896    0.201228   \n",
       "2                         51.599998                      0.600127    0.131578   \n",
       "3                         51.919998                      0.495901    0.173452   \n",
       "4                         52.240002                      0.530935    0.246943   \n",
       "\n",
       "   Perceptions of corruption  Positive affect  Negative affect  \n",
       "0                   0.881686         0.517637         0.258195  \n",
       "1                   0.850035         0.583926         0.237092  \n",
       "2                   0.706766         0.618265         0.275324  \n",
       "3                   0.731109         0.611387         0.267175  \n",
       "4                   0.775620         0.710385         0.267919  "
      ]
     },
     "execution_count": 29,
     "metadata": {},
     "output_type": "execute_result"
    }
   ],
   "source": [
    "hdf20small.head()"
   ]
  },
  {
   "cell_type": "code",
   "execution_count": 30,
   "metadata": {},
   "outputs": [
    {
     "data": {
      "text/html": [
       "<div>\n",
       "<style scoped>\n",
       "    .dataframe tbody tr th:only-of-type {\n",
       "        vertical-align: middle;\n",
       "    }\n",
       "\n",
       "    .dataframe tbody tr th {\n",
       "        vertical-align: top;\n",
       "    }\n",
       "\n",
       "    .dataframe thead th {\n",
       "        text-align: right;\n",
       "    }\n",
       "</style>\n",
       "<table border=\"1\" class=\"dataframe\">\n",
       "  <thead>\n",
       "    <tr style=\"text-align: right;\">\n",
       "      <th></th>\n",
       "      <th>Country name</th>\n",
       "      <th>year</th>\n",
       "      <th>Life Ladder</th>\n",
       "      <th>Log GDP per capita</th>\n",
       "      <th>Social support</th>\n",
       "      <th>Healthy life expectancy at birth</th>\n",
       "      <th>Freedom to make life choices</th>\n",
       "      <th>Generosity</th>\n",
       "      <th>Perceptions of corruption</th>\n",
       "      <th>Positive affect</th>\n",
       "      <th>Negative affect</th>\n",
       "    </tr>\n",
       "  </thead>\n",
       "  <tbody>\n",
       "    <tr>\n",
       "      <th>0</th>\n",
       "      <td>Afghanistan</td>\n",
       "      <td>2008</td>\n",
       "      <td>3.724</td>\n",
       "      <td>7.350</td>\n",
       "      <td>0.451</td>\n",
       "      <td>50.5</td>\n",
       "      <td>0.718</td>\n",
       "      <td>0.168</td>\n",
       "      <td>0.882</td>\n",
       "      <td>0.414</td>\n",
       "      <td>0.258</td>\n",
       "    </tr>\n",
       "    <tr>\n",
       "      <th>1</th>\n",
       "      <td>Afghanistan</td>\n",
       "      <td>2009</td>\n",
       "      <td>4.402</td>\n",
       "      <td>7.509</td>\n",
       "      <td>0.552</td>\n",
       "      <td>50.8</td>\n",
       "      <td>0.679</td>\n",
       "      <td>0.191</td>\n",
       "      <td>0.850</td>\n",
       "      <td>0.481</td>\n",
       "      <td>0.237</td>\n",
       "    </tr>\n",
       "    <tr>\n",
       "      <th>2</th>\n",
       "      <td>Afghanistan</td>\n",
       "      <td>2010</td>\n",
       "      <td>4.758</td>\n",
       "      <td>7.614</td>\n",
       "      <td>0.539</td>\n",
       "      <td>51.1</td>\n",
       "      <td>0.600</td>\n",
       "      <td>0.121</td>\n",
       "      <td>0.707</td>\n",
       "      <td>0.517</td>\n",
       "      <td>0.275</td>\n",
       "    </tr>\n",
       "    <tr>\n",
       "      <th>3</th>\n",
       "      <td>Afghanistan</td>\n",
       "      <td>2011</td>\n",
       "      <td>3.832</td>\n",
       "      <td>7.581</td>\n",
       "      <td>0.521</td>\n",
       "      <td>51.4</td>\n",
       "      <td>0.496</td>\n",
       "      <td>0.164</td>\n",
       "      <td>0.731</td>\n",
       "      <td>0.480</td>\n",
       "      <td>0.267</td>\n",
       "    </tr>\n",
       "    <tr>\n",
       "      <th>4</th>\n",
       "      <td>Afghanistan</td>\n",
       "      <td>2012</td>\n",
       "      <td>3.783</td>\n",
       "      <td>7.661</td>\n",
       "      <td>0.521</td>\n",
       "      <td>51.7</td>\n",
       "      <td>0.531</td>\n",
       "      <td>0.238</td>\n",
       "      <td>0.776</td>\n",
       "      <td>0.614</td>\n",
       "      <td>0.268</td>\n",
       "    </tr>\n",
       "  </tbody>\n",
       "</table>\n",
       "</div>"
      ],
      "text/plain": [
       "  Country name  year  Life Ladder  Log GDP per capita  Social support  \\\n",
       "0  Afghanistan  2008        3.724               7.350           0.451   \n",
       "1  Afghanistan  2009        4.402               7.509           0.552   \n",
       "2  Afghanistan  2010        4.758               7.614           0.539   \n",
       "3  Afghanistan  2011        3.832               7.581           0.521   \n",
       "4  Afghanistan  2012        3.783               7.661           0.521   \n",
       "\n",
       "   Healthy life expectancy at birth  Freedom to make life choices  Generosity  \\\n",
       "0                              50.5                         0.718       0.168   \n",
       "1                              50.8                         0.679       0.191   \n",
       "2                              51.1                         0.600       0.121   \n",
       "3                              51.4                         0.496       0.164   \n",
       "4                              51.7                         0.531       0.238   \n",
       "\n",
       "   Perceptions of corruption  Positive affect  Negative affect  \n",
       "0                      0.882            0.414            0.258  \n",
       "1                      0.850            0.481            0.237  \n",
       "2                      0.707            0.517            0.275  \n",
       "3                      0.731            0.480            0.267  \n",
       "4                      0.776            0.614            0.268  "
      ]
     },
     "execution_count": 30,
     "metadata": {},
     "output_type": "execute_result"
    }
   ],
   "source": [
    "hdf23.head()"
   ]
  },
  {
   "cell_type": "markdown",
   "id": "dd3d3c18",
   "metadata": {},
   "source": [
    "## Identify both datasets by year"
   ]
  },
  {
   "cell_type": "code",
   "execution_count": 34,
   "id": "a19710d8",
   "metadata": {},
   "outputs": [
    {
     "data": {
      "text/plain": [
       "15"
      ]
     },
     "execution_count": 34,
     "metadata": {},
     "output_type": "execute_result"
    }
   ],
   "source": [
    "hdf20small['year']"
   ]
  },
  {
   "cell_type": "code",
   "execution_count": 32,
   "id": "be68fe31",
   "metadata": {},
   "outputs": [],
   "source": [
    "hdf23['year']="
   ]
  },
  {
   "cell_type": "markdown",
   "id": "2bb7c4bf",
   "metadata": {},
   "source": [
    "### Append the datasets"
   ]
  },
  {
   "cell_type": "code",
   "execution_count": 33,
   "id": "8e3041a5",
   "metadata": {},
   "outputs": [
    {
     "ename": "AttributeError",
     "evalue": "'DataFrame' object has no attribute 'append'",
     "output_type": "error",
     "traceback": [
      "\u001b[0;31m---------------------------------------------------------------------------\u001b[0m",
      "\u001b[0;31mAttributeError\u001b[0m                            Traceback (most recent call last)",
      "\u001b[0;32m/var/folders/__/0wd0q1jn33j1cls74csq9n4m0000gn/T/ipykernel_65678/2037862295.py\u001b[0m in \u001b[0;36m?\u001b[0;34m()\u001b[0m\n\u001b[0;32m----> 1\u001b[0;31m \u001b[0mhapdf\u001b[0m \u001b[0;34m=\u001b[0m \u001b[0mhdf23\u001b[0m\u001b[0;34m.\u001b[0m\u001b[0mappend\u001b[0m\u001b[0;34m(\u001b[0m\u001b[0mhdf20small\u001b[0m\u001b[0;34m)\u001b[0m\u001b[0;34m\u001b[0m\u001b[0;34m\u001b[0m\u001b[0m\n\u001b[0m",
      "\u001b[0;32m/opt/homebrew/lib/python3.11/site-packages/pandas/core/generic.py\u001b[0m in \u001b[0;36m?\u001b[0;34m(self, name)\u001b[0m\n\u001b[1;32m   6200\u001b[0m             \u001b[0;32mand\u001b[0m \u001b[0mname\u001b[0m \u001b[0;32mnot\u001b[0m \u001b[0;32min\u001b[0m \u001b[0mself\u001b[0m\u001b[0;34m.\u001b[0m\u001b[0m_accessors\u001b[0m\u001b[0;34m\u001b[0m\u001b[0;34m\u001b[0m\u001b[0m\n\u001b[1;32m   6201\u001b[0m             \u001b[0;32mand\u001b[0m \u001b[0mself\u001b[0m\u001b[0;34m.\u001b[0m\u001b[0m_info_axis\u001b[0m\u001b[0;34m.\u001b[0m\u001b[0m_can_hold_identifiers_and_holds_name\u001b[0m\u001b[0;34m(\u001b[0m\u001b[0mname\u001b[0m\u001b[0;34m)\u001b[0m\u001b[0;34m\u001b[0m\u001b[0;34m\u001b[0m\u001b[0m\n\u001b[1;32m   6202\u001b[0m         ):\n\u001b[1;32m   6203\u001b[0m             \u001b[0;32mreturn\u001b[0m \u001b[0mself\u001b[0m\u001b[0;34m[\u001b[0m\u001b[0mname\u001b[0m\u001b[0;34m]\u001b[0m\u001b[0;34m\u001b[0m\u001b[0;34m\u001b[0m\u001b[0m\n\u001b[0;32m-> 6204\u001b[0;31m         \u001b[0;32mreturn\u001b[0m \u001b[0mobject\u001b[0m\u001b[0;34m.\u001b[0m\u001b[0m__getattribute__\u001b[0m\u001b[0;34m(\u001b[0m\u001b[0mself\u001b[0m\u001b[0;34m,\u001b[0m \u001b[0mname\u001b[0m\u001b[0;34m)\u001b[0m\u001b[0;34m\u001b[0m\u001b[0;34m\u001b[0m\u001b[0m\n\u001b[0m",
      "\u001b[0;31mAttributeError\u001b[0m: 'DataFrame' object has no attribute 'append'"
     ]
    }
   ],
   "source": [
    "hapdf = "
   ]
  },
  {
   "cell_type": "code",
   "execution_count": null,
   "id": "a5bc64bd",
   "metadata": {},
   "outputs": [],
   "source": [
    "hapdf.head()"
   ]
  },
  {
   "cell_type": "code",
   "execution_count": null,
   "id": "eca55d86",
   "metadata": {},
   "outputs": [],
   "source": [
    "hapdf.tail()"
   ]
  },
  {
   "cell_type": "code",
   "execution_count": null,
   "id": "c16bfd7c",
   "metadata": {},
   "outputs": [],
   "source": []
  }
 ],
 "metadata": {
  "kernelspec": {
   "display_name": "Python 3 (ipykernel)",
   "language": "python",
   "name": "python3"
  },
  "language_info": {
   "codemirror_mode": {
    "name": "ipython",
    "version": 3
   },
   "file_extension": ".py",
   "mimetype": "text/x-python",
   "name": "python",
   "nbconvert_exporter": "python",
   "pygments_lexer": "ipython3",
   "version": "3.11.6"
  }
 },
 "nbformat": 4,
 "nbformat_minor": 5
}
