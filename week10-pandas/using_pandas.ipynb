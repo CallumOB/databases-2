{
 "cells": [
  {
   "cell_type": "markdown",
   "metadata": {},
   "source": [
    "# Importing and Tidying the Data"
   ]
  },
  {
   "cell_type": "code",
   "execution_count": 1,
   "metadata": {},
   "outputs": [],
   "source": [
    "import pandas as pd\n",
    "import json\n",
    "\n",
    "routes_df = pd.read_csv('routes.csv', sep=',', delimiter=None, encoding='latin-1')"
   ]
  },
  {
   "cell_type": "code",
   "execution_count": 7,
   "metadata": {},
   "outputs": [
    {
     "name": "stdout",
     "output_type": "stream",
     "text": [
      "id          int64\n",
      "Name       object\n",
      "City       object\n",
      "Country    object\n",
      "dtype: object\n",
      "id         object\n",
      "Name       object\n",
      "City       object\n",
      "Country    object\n",
      "dtype: object\n"
     ]
    }
   ],
   "source": [
    "airport_df = pd.read_csv('airports.csv', sep=',', delimiter=None, encoding='latin-1')\n",
    "airport_df = airport_df.drop(columns=['ICAO', 'longitude', 'latitude', 'altitude_ft', 'Timezone', 'DST', 'Area'])\n",
    "print(airport_df.dtypes)"
   ]
  },
  {
   "cell_type": "code",
   "execution_count": 18,
   "metadata": {},
   "outputs": [
    {
     "name": "stdout",
     "output_type": "stream",
     "text": [
      "ID          int64\n",
      "Name       object\n",
      "IATA       object\n",
      "Country    object\n",
      "Active     object\n",
      "dtype: object\n",
      "    ID                  Name IATA            Country Active\n",
      "3    3         1Time Airline  RNX       South Africa      Y\n",
      "10  10           40-Mile Air  MLA      United States      Y\n",
      "13  13      Ansett Australia  AAA          Australia      Y\n",
      "14  14  Abacus International  NaN          Singapore      Y\n",
      "21  21            Aigle Azur  AAF             France      Y\n",
      "22  22        Aloha Airlines  AAH      United States      Y\n",
      "24  24     American Airlines  AAL      United States      Y\n",
      "28  28       Asiana Airlines  AAR  Republic of Korea      Y\n",
      "29  29       Askari Aviation  AAS           Pakistan      Y\n",
      "32  32     Afriqiyah Airways  AAW              Libya      Y\n",
      "Duration 26\n"
     ]
    }
   ],
   "source": [
    "airline_df = pd.read_csv('airlines.csv', sep=',', delimiter=None, encoding='latin-1', names=['ID', 'Name', 'Unknown1', 'Unknown2', 'IATA', 'Callsign', 'Country', 'Active'])\n",
    "airline_df = airline_df.drop(columns=['Unknown1', 'Unknown2', 'Callsign'])\n",
    "airline_df = airline_df.dropna(subset=['Country'])\n",
    "airline_df = airline_df.query(\"Country != '\\\\\\\\N' and Active != 'N' and IATA != 'NaN'\")\n",
    "print(airline_df.dtypes)\n",
    "print(airline_df.head(10))"
   ]
  }
 ],
 "metadata": {
  "kernelspec": {
   "display_name": "Python 3",
   "language": "python",
   "name": "python3"
  },
  "language_info": {
   "codemirror_mode": {
    "name": "ipython",
    "version": 3
   },
   "file_extension": ".py",
   "mimetype": "text/x-python",
   "name": "python",
   "nbconvert_exporter": "python",
   "pygments_lexer": "ipython3",
   "version": "3.11.6"
  }
 },
 "nbformat": 4,
 "nbformat_minor": 2
}
